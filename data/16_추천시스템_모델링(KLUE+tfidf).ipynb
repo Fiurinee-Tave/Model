{
  "cells": [
    {
      "cell_type": "markdown",
      "metadata": {
        "id": "LUcpb6DNwHxf"
      },
      "source": [
        "필요한 라이브러리 설치 및 데이터 불러오기\n"
      ]
    },
    {
      "cell_type": "code",
      "execution_count": null,
      "metadata": {
        "colab": {
          "base_uri": "https://localhost:8080/"
        },
        "id": "BZgclg-4wM4v",
        "outputId": "c7420231-0e82-4a89-d6de-60a200611449"
      },
      "outputs": [
        {
          "name": "stdout",
          "output_type": "stream",
          "text": [
            "Drive already mounted at /content/drive; to attempt to forcibly remount, call drive.mount(\"/content/drive\", force_remount=True).\n"
          ]
        }
      ],
      "source": [
        "from google.colab import drive\n",
        "drive.mount('/content/drive')"
      ]
    },
    {
      "cell_type": "code",
      "execution_count": null,
      "metadata": {
        "colab": {
          "base_uri": "https://localhost:8080/"
        },
        "id": "VlhR47wzwgVi",
        "outputId": "fddab72d-70a0-44a6-ca23-51cf5cf6e8c8"
      },
      "outputs": [
        {
          "name": "stdout",
          "output_type": "stream",
          "text": [
            "Requirement already satisfied: konlpy in /usr/local/lib/python3.10/dist-packages (0.6.0)\n",
            "Requirement already satisfied: JPype1>=0.7.0 in /usr/local/lib/python3.10/dist-packages (from konlpy) (1.5.0)\n",
            "Requirement already satisfied: lxml>=4.1.0 in /usr/local/lib/python3.10/dist-packages (from konlpy) (4.9.4)\n",
            "Requirement already satisfied: numpy>=1.6 in /usr/local/lib/python3.10/dist-packages (from konlpy) (1.25.2)\n",
            "Requirement already satisfied: packaging in /usr/local/lib/python3.10/dist-packages (from JPype1>=0.7.0->konlpy) (24.1)\n"
          ]
        }
      ],
      "source": [
        "!pip install konlpy\n"
      ]
    },
    {
      "cell_type": "code",
      "execution_count": 105,
      "metadata": {},
      "outputs": [],
      "source": [
        "import numpy as np\n",
        "import pandas as pd\n",
        "import csv\n",
        "\n",
        "import matplotlib.pyplot as plt\n",
        "import seaborn as sns\n",
        "\n",
        "from konlpy.tag import *\n",
        "from collections import Counter\n",
        "from transformers import AutoModel, AutoTokenizer\n",
        "from sklearn.preprocessing import OneHotEncoder\n",
        "from sklearn.feature_extraction.text import TfidfVectorizer\n",
        "from konlpy.tag import Okt\n",
        "from sklearn.metrics.pairwise import cosine_similarity\n",
        "\n",
        "import tensorflow as tf\n",
        "import torch"
      ]
    },
    {
      "cell_type": "markdown",
      "metadata": {
        "id": "9au20AhXxgP1"
      },
      "source": [
        "테스트 예시\n"
      ]
    },
    {
      "cell_type": "code",
      "execution_count": 139,
      "metadata": {
        "id": "Yasgrnpyn4eB"
      },
      "outputs": [],
      "source": [
        "# 파일 가져오기\n",
        "df_file = \"C:/Users/pc/Desktop/민지/동아리/프로젝트(13기)/최종_데이터셋7(월,일,색상,RGB).csv\"\n",
        "stopword_file = \"/content/drive/MyDrive/TAVE프로젝트/data/fire.txt\"\n",
        "\n",
        "df = pd.read_csv(df_file) #, encoding='CP949'\n",
        "df.drop([\"일자\", \"선택한 색상\", \"중앙 색상들\"], axis=1, inplace=True)\n"
      ]
    },
    {
      "cell_type": "markdown",
      "metadata": {
        "id": "5gCudwYxww0I"
      },
      "source": [
        "NLP 처리 및 데이터 전처리\n"
      ]
    },
    {
      "cell_type": "code",
      "execution_count": 140,
      "metadata": {
        "colab": {
          "base_uri": "https://localhost:8080/"
        },
        "id": "P-yu_N_4wxTu",
        "outputId": "8155b671-98e0-4c79-8308-b06103569841"
      },
      "outputs": [
        {
          "name": "stdout",
          "output_type": "stream",
          "text": [
            "(837, 4)\n"
          ]
        },
        {
          "name": "stderr",
          "output_type": "stream",
          "text": [
            "C:\\Users\\pc\\AppData\\Local\\Temp\\ipykernel_10428\\2385004683.py:7: SettingWithCopyWarning: \n",
            "A value is trying to be set on a copy of a slice from a DataFrame.\n",
            "Try using .loc[row_indexer,col_indexer] = value instead\n",
            "\n",
            "See the caveats in the documentation: https://pandas.pydata.org/pandas-docs/stable/user_guide/indexing.html#returning-a-view-versus-a-copy\n",
            "  df_nlp['설명'] = df_nlp['꽃말'] + \". \" + df_nlp['설명']\n",
            "C:\\Users\\pc\\AppData\\Local\\Temp\\ipykernel_10428\\2385004683.py:26: SettingWithCopyWarning: \n",
            "A value is trying to be set on a copy of a slice from a DataFrame.\n",
            "Try using .loc[row_indexer,col_indexer] = value instead\n",
            "\n",
            "See the caveats in the documentation: https://pandas.pydata.org/pandas-docs/stable/user_guide/indexing.html#returning-a-view-versus-a-copy\n",
            "  df_nlp['설명'] = df_nlp['설명'].apply(remove_special_characters)\n",
            "C:\\Users\\pc\\AppData\\Local\\Temp\\ipykernel_10428\\2385004683.py:27: SettingWithCopyWarning: \n",
            "A value is trying to be set on a copy of a slice from a DataFrame.\n",
            "Try using .loc[row_indexer,col_indexer] = value instead\n",
            "\n",
            "See the caveats in the documentation: https://pandas.pydata.org/pandas-docs/stable/user_guide/indexing.html#returning-a-view-versus-a-copy\n",
            "  df_nlp['색상'] = df_nlp['색상'].apply(remove_special_characters)\n"
          ]
        }
      ],
      "source": [
        "# NLP 처리 할 데이터만 가져오기\n",
        "df_nlp = df[[\"꽃\", \"꽃말\", \"설명\", \"색상\"]]\n",
        "print(df_nlp.shape)\n",
        "df_nlp.head(5)\n",
        "\n",
        "# 꽃말, 설명 합치기 (색상은 유지)\n",
        "df_nlp['설명'] = df_nlp['꽃말'] + \". \" + df_nlp['설명']\n",
        "\n",
        "# 특수문자 및 띄어쓰기 제거 함수\n",
        "import re\n",
        "\n",
        "def remove_special_characters(text):\n",
        "    if not isinstance(text, str):\n",
        "        text = str(text)\n",
        "\n",
        "    # 특수문자 제거\n",
        "    pattern = r'[^\\w\\s\\.]' # 문자, 공백문자, 마침표 제외 제거\n",
        "    clean_text = re.sub(pattern, '', text)\n",
        "\n",
        "    # 한자 제거\n",
        "    pattern = r'[\\u4e00-\\u9fff]' # 중국어 한자의 유니코드 시작과 끝 제거\n",
        "    clean_text = re.sub(pattern, '', clean_text)\n",
        "    clean_text = ' '.join(clean_text.split())\n",
        "    return clean_text\n",
        "\n",
        "df_nlp['설명'] = df_nlp['설명'].apply(remove_special_characters)\n",
        "df_nlp['색상'] = df_nlp['색상'].apply(remove_special_characters)"
      ]
    },
    {
      "cell_type": "markdown",
      "metadata": {
        "id": "wQVNPmAFw08Y"
      },
      "source": [
        "Klue-RoBERTa 모델 및 토크나이저 불러오기\n"
      ]
    },
    {
      "cell_type": "code",
      "execution_count": 141,
      "metadata": {
        "colab": {
          "base_uri": "https://localhost:8080/",
          "height": 946
        },
        "id": "fLFY94n7w246",
        "outputId": "7e43f1f1-41cb-420e-e3fe-1b32aff5801e"
      },
      "outputs": [
        {
          "name": "stderr",
          "output_type": "stream",
          "text": [
            "Some weights of RobertaModel were not initialized from the model checkpoint at klue/roberta-small and are newly initialized: ['roberta.pooler.dense.weight', 'roberta.pooler.dense.bias']\n",
            "You should probably TRAIN this model on a down-stream task to be able to use it for predictions and inference.\n",
            "C:\\Users\\pc\\AppData\\Local\\Temp\\ipykernel_10428\\3946500010.py:16: SettingWithCopyWarning: \n",
            "A value is trying to be set on a copy of a slice from a DataFrame.\n",
            "Try using .loc[row_indexer,col_indexer] = value instead\n",
            "\n",
            "See the caveats in the documentation: https://pandas.pydata.org/pandas-docs/stable/user_guide/indexing.html#returning-a-view-versus-a-copy\n",
            "  df_nlp['설명2'] = df_nlp['설명'].apply(add_special_tokens)\n",
            "C:\\Users\\pc\\AppData\\Local\\Temp\\ipykernel_10428\\3946500010.py:17: SettingWithCopyWarning: \n",
            "A value is trying to be set on a copy of a slice from a DataFrame.\n",
            "Try using .loc[row_indexer,col_indexer] = value instead\n",
            "\n",
            "See the caveats in the documentation: https://pandas.pydata.org/pandas-docs/stable/user_guide/indexing.html#returning-a-view-versus-a-copy\n",
            "  df_nlp['색상2'] = df_nlp['색상'].apply(add_special_tokens)\n"
          ]
        },
        {
          "data": {
            "text/html": [
              "<div>\n",
              "<style scoped>\n",
              "    .dataframe tbody tr th:only-of-type {\n",
              "        vertical-align: middle;\n",
              "    }\n",
              "\n",
              "    .dataframe tbody tr th {\n",
              "        vertical-align: top;\n",
              "    }\n",
              "\n",
              "    .dataframe thead th {\n",
              "        text-align: right;\n",
              "    }\n",
              "</style>\n",
              "<table border=\"1\" class=\"dataframe\">\n",
              "  <thead>\n",
              "    <tr style=\"text-align: right;\">\n",
              "      <th></th>\n",
              "      <th>꽃</th>\n",
              "      <th>꽃말</th>\n",
              "      <th>설명</th>\n",
              "      <th>색상</th>\n",
              "      <th>설명2</th>\n",
              "      <th>색상2</th>\n",
              "    </tr>\n",
              "  </thead>\n",
              "  <tbody>\n",
              "    <tr>\n",
              "      <th>0</th>\n",
              "      <td>각시붓꽃</td>\n",
              "      <td>부끄러움, 세련됨</td>\n",
              "      <td>부끄러움 세련됨. 각시라 하면 이제 막 시집 온 새색시를 연상케 한다. 그래서인지 ...</td>\n",
              "      <td>보라</td>\n",
              "      <td>[CLS] 부끄러움 세련됨 [SEP] [CLS] 각시라 하면 이제 막 시집 온 새색...</td>\n",
              "      <td>[CLS] 보라 [SEP]</td>\n",
              "    </tr>\n",
              "    <tr>\n",
              "      <th>1</th>\n",
              "      <td>감국</td>\n",
              "      <td>그윽한 향기</td>\n",
              "      <td>그윽한 향기. 가을 산야는 국화과 식물들 차지다. 특히 노란 꽃으로 향기까지 일품인...</td>\n",
              "      <td>노랑</td>\n",
              "      <td>[CLS] 그윽한 향기 [SEP] [CLS] 가을 산야는 국화과 식물들 차지다 [S...</td>\n",
              "      <td>[CLS] 노랑 [SEP]</td>\n",
              "    </tr>\n",
              "    <tr>\n",
              "      <th>2</th>\n",
              "      <td>개나리</td>\n",
              "      <td>희망,깊은 정, 달성</td>\n",
              "      <td>희망깊은 정 달성. 우리나라 전역에서 봄 소식을 가장 먼저 알려주는 대표적인 꽃 개...</td>\n",
              "      <td>노랑</td>\n",
              "      <td>[CLS] 희망깊은 정 달성 [SEP] [CLS] 우리나라 전역에서 봄 소식을 가장...</td>\n",
              "      <td>[CLS] 노랑 [SEP]</td>\n",
              "    </tr>\n",
              "    <tr>\n",
              "      <th>3</th>\n",
              "      <td>개나리</td>\n",
              "      <td>희망</td>\n",
              "      <td>희망. 개나리 봄을 알리는 전령사 하면 가장 먼저 떠오르는 꽃이다. 나리나리 개나리...</td>\n",
              "      <td>노랑</td>\n",
              "      <td>[CLS] 희망 [SEP] [CLS] 개나리 봄을 알리는 전령사 하면 가장 먼저 떠...</td>\n",
              "      <td>[CLS] 노랑 [SEP]</td>\n",
              "    </tr>\n",
              "    <tr>\n",
              "      <th>4</th>\n",
              "      <td>갯개미취</td>\n",
              "      <td>추억</td>\n",
              "      <td>추억. 옛날 일 따위는 깨끗이 잊는 사람들이 많은 가운데서도 당신은 옛 일을 어제 ...</td>\n",
              "      <td>보라</td>\n",
              "      <td>[CLS] 추억 [SEP] [CLS] 옛날 일 따위는 깨끗이 잊는 사람들이 많은 가...</td>\n",
              "      <td>[CLS] 보라 [SEP]</td>\n",
              "    </tr>\n",
              "    <tr>\n",
              "      <th>5</th>\n",
              "      <td>거베라</td>\n",
              "      <td>신비, 수수께끼</td>\n",
              "      <td>신비 수수께끼. 거베라만큼 크고 화려한 꽃도 드물다. 부를 상징하기도 한다. 거베라...</td>\n",
              "      <td>분홍</td>\n",
              "      <td>[CLS] 신비 수수께끼 [SEP] [CLS] 거베라만큼 크고 화려한 꽃도 드물다 ...</td>\n",
              "      <td>[CLS] 분홍 [SEP]</td>\n",
              "    </tr>\n",
              "    <tr>\n",
              "      <th>6</th>\n",
              "      <td>검은포플라</td>\n",
              "      <td>용기</td>\n",
              "      <td>용기. 당신은 용기가 있어 주위 사람들도 당신을 의지하고 있습니다. 그렇다고 해서 ...</td>\n",
              "      <td>빨강</td>\n",
              "      <td>[CLS] 용기 [SEP] [CLS] 당신은 용기가 있어 주위 사람들도 당신을 의지...</td>\n",
              "      <td>[CLS] 빨강 [SEP]</td>\n",
              "    </tr>\n",
              "    <tr>\n",
              "      <th>7</th>\n",
              "      <td>겹 공작초</td>\n",
              "      <td>첫눈에 반함</td>\n",
              "      <td>첫눈에 반함. 자기가 가장 아름답다고 믿는 세 여신이 있었다. 제우스의 아내 헤라 ...</td>\n",
              "      <td>보라</td>\n",
              "      <td>[CLS] 첫눈에 반함 [SEP] [CLS] 자기가 가장 아름답다고 믿는 세 여신이...</td>\n",
              "      <td>[CLS] 보라 [SEP]</td>\n",
              "    </tr>\n",
              "    <tr>\n",
              "      <th>8</th>\n",
              "      <td>겹 과꽃</td>\n",
              "      <td>나의 사랑은 당신보다깊다</td>\n",
              "      <td>나의 사랑은 당신보다깊다. 괴테의 희곡 파우스트 에 등장하는 소녀 마가렛이 꽃잎을 ...</td>\n",
              "      <td>보라</td>\n",
              "      <td>[CLS] 나의 사랑은 당신보다깊다 [SEP] [CLS] 괴테의 희곡 파우스트 에 ...</td>\n",
              "      <td>[CLS] 보라 [SEP]</td>\n",
              "    </tr>\n",
              "    <tr>\n",
              "      <th>9</th>\n",
              "      <td>겹 소국</td>\n",
              "      <td>청초</td>\n",
              "      <td>청초. 국화 품종 중 작은 화형을 가진 국화를 소국이라고 하며 스프레이 형태를 띄고...</td>\n",
              "      <td>분홍</td>\n",
              "      <td>[CLS] 청초 [SEP] [CLS] 국화 품종 중 작은 화형을 가진 국화를 소국이...</td>\n",
              "      <td>[CLS] 분홍 [SEP]</td>\n",
              "    </tr>\n",
              "  </tbody>\n",
              "</table>\n",
              "</div>"
            ],
            "text/plain": [
              "       꽃             꽃말                                                 설명  \\\n",
              "0   각시붓꽃      부끄러움, 세련됨  부끄러움 세련됨. 각시라 하면 이제 막 시집 온 새색시를 연상케 한다. 그래서인지 ...   \n",
              "1     감국         그윽한 향기  그윽한 향기. 가을 산야는 국화과 식물들 차지다. 특히 노란 꽃으로 향기까지 일품인...   \n",
              "2    개나리    희망,깊은 정, 달성  희망깊은 정 달성. 우리나라 전역에서 봄 소식을 가장 먼저 알려주는 대표적인 꽃 개...   \n",
              "3    개나리             희망  희망. 개나리 봄을 알리는 전령사 하면 가장 먼저 떠오르는 꽃이다. 나리나리 개나리...   \n",
              "4   갯개미취             추억  추억. 옛날 일 따위는 깨끗이 잊는 사람들이 많은 가운데서도 당신은 옛 일을 어제 ...   \n",
              "5    거베라       신비, 수수께끼  신비 수수께끼. 거베라만큼 크고 화려한 꽃도 드물다. 부를 상징하기도 한다. 거베라...   \n",
              "6  검은포플라             용기  용기. 당신은 용기가 있어 주위 사람들도 당신을 의지하고 있습니다. 그렇다고 해서 ...   \n",
              "7  겹 공작초         첫눈에 반함  첫눈에 반함. 자기가 가장 아름답다고 믿는 세 여신이 있었다. 제우스의 아내 헤라 ...   \n",
              "8   겹 과꽃  나의 사랑은 당신보다깊다  나의 사랑은 당신보다깊다. 괴테의 희곡 파우스트 에 등장하는 소녀 마가렛이 꽃잎을 ...   \n",
              "9   겹 소국             청초  청초. 국화 품종 중 작은 화형을 가진 국화를 소국이라고 하며 스프레이 형태를 띄고...   \n",
              "\n",
              "   색상                                                설명2             색상2  \n",
              "0  보라  [CLS] 부끄러움 세련됨 [SEP] [CLS] 각시라 하면 이제 막 시집 온 새색...  [CLS] 보라 [SEP]  \n",
              "1  노랑  [CLS] 그윽한 향기 [SEP] [CLS] 가을 산야는 국화과 식물들 차지다 [S...  [CLS] 노랑 [SEP]  \n",
              "2  노랑  [CLS] 희망깊은 정 달성 [SEP] [CLS] 우리나라 전역에서 봄 소식을 가장...  [CLS] 노랑 [SEP]  \n",
              "3  노랑  [CLS] 희망 [SEP] [CLS] 개나리 봄을 알리는 전령사 하면 가장 먼저 떠...  [CLS] 노랑 [SEP]  \n",
              "4  보라  [CLS] 추억 [SEP] [CLS] 옛날 일 따위는 깨끗이 잊는 사람들이 많은 가...  [CLS] 보라 [SEP]  \n",
              "5  분홍  [CLS] 신비 수수께끼 [SEP] [CLS] 거베라만큼 크고 화려한 꽃도 드물다 ...  [CLS] 분홍 [SEP]  \n",
              "6  빨강  [CLS] 용기 [SEP] [CLS] 당신은 용기가 있어 주위 사람들도 당신을 의지...  [CLS] 빨강 [SEP]  \n",
              "7  보라  [CLS] 첫눈에 반함 [SEP] [CLS] 자기가 가장 아름답다고 믿는 세 여신이...  [CLS] 보라 [SEP]  \n",
              "8  보라  [CLS] 나의 사랑은 당신보다깊다 [SEP] [CLS] 괴테의 희곡 파우스트 에 ...  [CLS] 보라 [SEP]  \n",
              "9  분홍  [CLS] 청초 [SEP] [CLS] 국화 품종 중 작은 화형을 가진 국화를 소국이...  [CLS] 분홍 [SEP]  "
            ]
          },
          "execution_count": 141,
          "metadata": {},
          "output_type": "execute_result"
        }
      ],
      "source": [
        "# Klue-RoBERTa 모델과 토크나이저 불러오기\n",
        "model_name = 'klue/roberta-small'\n",
        "tokenizer = AutoTokenizer.from_pretrained(model_name)\n",
        "model = AutoModel.from_pretrained(model_name)\n",
        "\n",
        "# [CLS]와 [SEP] 토큰을 추가하는 함수\n",
        "def add_special_tokens(text):\n",
        "    # 문장을 마침표를 기준으로 분리\n",
        "    sentences = text.split('. ')\n",
        "    # 각 문장에 [CLS]와 [SEP] 토큰 추가\n",
        "    sentences_with_special_tokens = ['[CLS] ' + sentence + ' [SEP]' for sentence in sentences]\n",
        "    # 다시 문장으로 결합\n",
        "    text_with_special_tokens = ' '.join(sentences_with_special_tokens)\n",
        "    return text_with_special_tokens\n",
        "\n",
        "df_nlp['설명2'] = df_nlp['설명'].apply(add_special_tokens)\n",
        "df_nlp['색상2'] = df_nlp['색상'].apply(add_special_tokens)\n",
        "df_nlp.head(10)\n"
      ]
    },
    {
      "cell_type": "markdown",
      "metadata": {
        "id": "2qGWD2lyw6ud"
      },
      "source": [
        "벡터화 함수\n"
      ]
    },
    {
      "cell_type": "code",
      "execution_count": 142,
      "metadata": {
        "id": "22LmwemKw6er"
      },
      "outputs": [],
      "source": [
        "# 문장을 벡터화 변환하는 함수\n",
        "def get_sentence_embedding(text, tokenizer, model):\n",
        "    inputs = tokenizer(text, return_tensors='pt', truncation=True, padding=True) # 최대 길이 초과 시 잘라내기, 작은 경우 패딩 진행\n",
        "    outputs = model(**inputs)\n",
        "    return outputs.last_hidden_state[:, 0, :].detach().numpy() # 각 토큰 벡터의 첫 번째 벡터 확인 (CLS 토큰 벡터)\n",
        "\n",
        "# 설명 벡터화\n",
        "df_nlp['설명_벡터'] = df_nlp['설명2'].apply(lambda x: get_sentence_embedding(x, tokenizer, model).tolist()) # 데이터마다 (1, 768) 차원 벡터 생성\n",
        "df_nlp['색상_벡터'] = df_nlp['색상2'].apply(lambda x: get_sentence_embedding(x, tokenizer, model).tolist())\n"
      ]
    },
    {
      "cell_type": "markdown",
      "metadata": {
        "id": "LQz-kFOGw_pK"
      },
      "source": [
        "월/계절 원핫인코딩\n"
      ]
    },
    {
      "cell_type": "code",
      "execution_count": 143,
      "metadata": {
        "id": "pE8HXw4dxCY_"
      },
      "outputs": [],
      "source": [
        "# 월/계절 원핫인코딩\n",
        "encoder = OneHotEncoder()\n",
        "encoded_data = encoder.fit_transform(df[['월', '계절']]).toarray()  # '월'과 '계절' 컬럼을 원핫인코딩\n",
        "encoded_df = pd.DataFrame(encoded_data, columns=encoder.get_feature_names_out(['월', '계절'])) # 원핫인코딩된 결과를 새로운 데이터프레임으로 변환\n",
        "\n",
        "# 원핫인코딩 결과를 '원핫인코딩' 컬럼으로 추가\n",
        "df_nlp['원핫인코딩'] = encoded_df.apply(lambda row: list(row), axis=1)\n",
        "df_nlp['원핫인코딩'] = df_nlp['원핫인코딩'].apply(lambda x: np.array(x).reshape(1, -1)) #(16,1)을 (1,16)차원으로 변경\n"
      ]
    },
    {
      "cell_type": "markdown",
      "metadata": {
        "id": "Gu_Zgxp_xFGd"
      },
      "source": [
        "결합 벡터 생성 함수\n"
      ]
    },
    {
      "cell_type": "code",
      "execution_count": 144,
      "metadata": {
        "id": "JqlmrjEOxG2d"
      },
      "outputs": [],
      "source": [
        "# 결합 벡터 생성 (설명 벡터, 색상 벡터, 원핫인코딩 벡터 결합)\n",
        "def create_combined_vector(row):\n",
        "    설명_벡터 = row['설명_벡터']\n",
        "    색상_벡터 = row['색상_벡터']\n",
        "    원핫인코딩 = row['원핫인코딩']\n",
        "\n",
        "    combined_array = np.concatenate((설명_벡터, 색상_벡터, 원핫인코딩), axis=1)\n",
        "\n",
        "    return combined_array\n",
        "\n",
        "# df_nlp['최종_벡터'] = df_nlp.apply(create_combined_vector, axis=1)\n",
        "\n",
        "# 색상이 없는 경우 결합 벡터 생성 함수\n",
        "def create_combined_vector_without_color(row):\n",
        "    설명_벡터 = row['설명_벡터']\n",
        "    원핫인코딩 = row['원핫인코딩']\n",
        "    combined_array = np.concatenate((설명_벡터, 원핫인코딩), axis=1)\n",
        "    return combined_array\n"
      ]
    },
    {
      "cell_type": "code",
      "execution_count": 16,
      "metadata": {},
      "outputs": [],
      "source": [
        "# #추천시스템_데이터 저장\n",
        "# import json\n",
        "\n",
        "# df_nlp['월'] = df['월']\n",
        "# df_nlp['계절'] = df['계절']\n",
        "# df_nlp['색상'] = df['색상']\n",
        "\n",
        "# # 배열을 JSON 문자열로 변환\n",
        "# df_nlp['설명_벡터'] = df_nlp['설명_벡터'].apply(lambda x: json.dumps(x))\n",
        "# df_nlp['색상_벡터'] = df_nlp['색상_벡터'].apply(lambda x: json.dumps(x))\n",
        "\n",
        "# df_nlp = df_nlp.reindex(columns=['꽃', '월', '계절', '꽃말', '색상', '설명', '설명_벡터', '색상_벡터', '원핫인코딩'])\n",
        "\n",
        "# # CSV 파일로 저장\n",
        "# df_nlp.to_csv(\"C:/Users/pc/Model/Model/dataset/추천시스템_데이터.csv\", index=False)"
      ]
    },
    {
      "cell_type": "markdown",
      "metadata": {
        "id": "wb2pGX49xJD1"
      },
      "source": [
        "사용자 입력 텍스트 분석 함수\n"
      ]
    },
    {
      "cell_type": "code",
      "execution_count": 145,
      "metadata": {
        "id": "pRyVeByuxLGF"
      },
      "outputs": [],
      "source": [
        "# 사용자 입력 텍스트 분석 함수(월, 계절)\n",
        "def extract_month_season(text):\n",
        "    months = {\n",
        "        '1월': 1, '2월': 2, '3월': 3, '4월': 4, '5월': 5, '6월': 6,\n",
        "        '7월': 7, '8월': 8, '9월': 9, '10월': 10, '11월': 11, '12월': 12\n",
        "    }\n",
        "    seasons = {'봄': '봄', '여름': '여름', '가을': '가을', '겨울': '겨울'}\n",
        "\n",
        "    month = None\n",
        "    season = None\n",
        "\n",
        "    for key, value in months.items():\n",
        "        if key in text:\n",
        "            month = value\n",
        "            break\n",
        "\n",
        "    for key in seasons.keys():\n",
        "        if key in text:\n",
        "            season = key\n",
        "            break\n",
        "\n",
        "    return month, season"
      ]
    },
    {
      "cell_type": "code",
      "execution_count": 146,
      "metadata": {},
      "outputs": [],
      "source": [
        "# 확장된 색상 사전\n",
        "color_synonyms = {\n",
        "    '갈색': ['갈색', '브라운', '갈색의', '브라운색', '갈색이', '갈색이다', '갈색을', '갈색으로'],\n",
        "    '노랑': ['노랑', '노란', '노란색', '황색', '노랑색', '노랗다', '노랗게', '노란빛', '노란 빛','누런'],\n",
        "    '보라': ['보라', '보라색', '자주색', '보라빛', '보랏빛', '보라빛의', '보라빛이', '보라빛으로'],\n",
        "    '분홍': ['분홍', '핑크', '분홍색', '핑크색', '분홍빛', '분홍빛의', '분홍빛이', '분홍빛으로'],\n",
        "    '빨강': ['빨강', '빨간', '빨강색', '빨간색', '붉은', '붉은색', '붉은 빛', '붉다', '붉게'],\n",
        "    '주황': ['주황', '주황색', '오렌지', '오렌지색', '주황빛', '주황빛의', '주황빛이', '주황빛으로'],\n",
        "    '초록': ['초록', '초록색', '녹색', '초록빛', '초록의', '초록이', '초록으로'],\n",
        "    '파랑': ['파랑', '파란', '파란색', '파랑색', '청색', '파랑빛', '파란빛', '파랗다', '파랗게','푸른','푸른빛', '푸른 색'],\n",
        "    '흰색': ['흰색', '하양', '하얀', '백색', '하얀색', '하양색', '하얗다', '하얗게', '백색의', '백색이', '백색으로','흰']\n",
        "}\n",
        "\n",
        "# 입력 텍스트에서 색상을 추출하는 함수\n",
        "def extract_color(text):\n",
        "    text = text.lower()\n",
        "    for color, synonyms in color_synonyms.items():\n",
        "        for synonym in synonyms:\n",
        "            if synonym in text:\n",
        "                return color\n",
        "    return None"
      ]
    },
    {
      "cell_type": "code",
      "execution_count": 204,
      "metadata": {},
      "outputs": [],
      "source": [
        "# 형태소 분석기 초기화\n",
        "okt = Okt()\n",
        "\n",
        "# 단어 변경 (데이터셋에 있는 것으로)\n",
        "\n",
        "def lexicon_replace(user_input):\n",
        "    lexicon = {\n",
        "        \"연인\": [\n",
        "            \"여자친구\", \"여친\", \"내 여자\", \"내 애인\", \"그녀\", \"여친님\", \"여사친\", \"여자 친구\",\n",
        "            \"남자친구\", \"남친\", \"내 남자\", \"남친님\", \"남사친\", \"남자 친구\", \"애인\",\n",
        "            \"사랑하는 사람\", \"연애 상대\", \"연인\", \"와이프\"\n",
        "        ],\n",
        "        \"졸업\": [\n",
        "             \"졸업식\", \"졸업 하는 날\", \"학위수여식\", \"학위식\"\n",
        "        ],\n",
        "        \"스승\": [\n",
        "            \"선생님\", \"선생\", \"교사\", \"스승님\", \"담임\", \"교원\", \"선생님들\", \"선생 님\",\"선생님\"\n",
        "        ],\n",
        "        \"어머니\": [\n",
        "            \"엄마\", \"가족\", \"아버지\", \"어머님\", \"아버님\", \"아빠\"\n",
        "        ]\n",
        "    }\n",
        "    \n",
        "    noun_list = []\n",
        "    pos_tags = okt.pos(user_input) \n",
        "    for word, tag in pos_tags: #형태소 분석 -> 명사만 추출 -> 단어 변경\n",
        "        if tag == 'Noun':\n",
        "            noun_list.append(word)\n",
        "    \n",
        "    for noun in noun_list:\n",
        "        for key, values in lexicon.items():\n",
        "            if noun in values:\n",
        "                user_input = re.sub(noun, key, user_input)\n",
        "\n",
        "    if \"연인\" in user_input:\n",
        "        user_input += \" 사랑\"\n",
        "    if \"스승\" in user_input:\n",
        "        user_input += \" 존경\"\n",
        "    if \"어머니\" in user_input:\n",
        "        user_input += \" 감사\"\n",
        "\n",
        "    return user_input"
      ]
    },
    {
      "cell_type": "code",
      "execution_count": 205,
      "metadata": {
        "id": "c_G0hMSAJA3m"
      },
      "outputs": [],
      "source": [
        "#점 추가\n",
        "def add_dot(user_input):\n",
        "    if not user_input.endswith(\".\"):\n",
        "        user_input += \".\"\n",
        "    return user_input"
      ]
    },
    {
      "cell_type": "markdown",
      "metadata": {},
      "source": [
        "형태소 확인"
      ]
    },
    {
      "cell_type": "code",
      "execution_count": 206,
      "metadata": {
        "id": "IPBwvFRhM32b"
      },
      "outputs": [],
      "source": [
        "# 형태소 분석기 초기화\n",
        "okt = Okt()\n",
        "\n",
        "# 입력 텍스트의 형태소 분석 및 명사형 확인 함수\n",
        "def is_noun_phrase(text):\n",
        "    # 형태소 분석\n",
        "    pos_tags = okt.pos(text)\n",
        "    ## 디버깅을 위해 형태소 분석 결과 출력\n",
        "    #print(f\"Text: {text}, POS Tags: {pos_tags}\")\n",
        "    # 모든 단어가 명사인지 확인\n",
        "    for word, tag in pos_tags:\n",
        "        if tag != 'Noun':\n",
        "            return False\n",
        "    return True\n",
        "\n",
        "# 명사형 텍스트에 문맥 추가 함수\n",
        "def add_context_if_noun(user_input):\n",
        "    if is_noun_phrase(user_input):\n",
        "        return user_input + \"에 어울리는 꽃을 추천해.\" # \" 꽃을 추천해\"\n",
        "    return user_input"
      ]
    },
    {
      "cell_type": "markdown",
      "metadata": {
        "id": "l5IJ9Hq9xNk9"
      },
      "source": [
        "사용자 입력을 벡터화 하는 함수\n"
      ]
    },
    {
      "cell_type": "code",
      "execution_count": 222,
      "metadata": {
        "id": "wykMZoelxNQu"
      },
      "outputs": [],
      "source": [
        "# 사용자 입력을 최종 벡터화\n",
        "def get_user_input_vector(user_input, user_month):\n",
        "    # 렉시콘 변환\n",
        "    user_input = lexicon_replace(user_input) \n",
        "    user_input = add_dot(user_input)\n",
        "    user_input = add_context_if_noun(user_input)\n",
        "    input_text = remove_special_characters(user_input)\n",
        "\n",
        "    # 토큰화 및 벡터화\n",
        "    input_embeddings = get_sentence_embedding(input_text, tokenizer, model)\n",
        "    input_color_text = extract_color(input_text)\n",
        "    month, season = extract_month_season(input_text)\n",
        "\n",
        "    # 원핫 벡터 생성\n",
        "    user_onehot_vector = np.zeros(len(encoder.get_feature_names_out(['월', '계절'])))\n",
        "    if month is not None:\n",
        "        month = user_month\n",
        "        month_idx = encoder.get_feature_names_out(['월', '계절']).tolist().index(f'월_{month}')\n",
        "        user_onehot_vector[month_idx] = 1\n",
        "    if season is None and month is not None: #사용자가 입력한 월 기준으로 계절 추출\n",
        "        if month in [3, 4, 5]:\n",
        "            season = '봄'\n",
        "        elif month in [6, 7, 8]:\n",
        "            season = '여름'\n",
        "        elif month in [9, 10, 11]:\n",
        "            season = '가을'\n",
        "        else:\n",
        "            season = '겨울'\n",
        "        season_idx = encoder.get_feature_names_out(['월', '계절']).tolist().index(f'계절_{season}')\n",
        "        user_onehot_vector[season_idx] = 1\n",
        "\n",
        "    if month is not None: #텍스트에 입력된 월\n",
        "        month_idx = encoder.get_feature_names_out(['월', '계절']).tolist().index(f'월_{month}')\n",
        "        user_onehot_vector[month_idx] = 1\n",
        "    if season is not None: #텍스트에 입력된 계절\n",
        "        season_idx = encoder.get_feature_names_out(['월', '계절']).tolist().index(f'계절_{season}')\n",
        "        user_onehot_vector[season_idx] = 1\n",
        "    user_onehot_vector = user_onehot_vector.reshape(1, -1) #(1,16)\n",
        "\n",
        "    # 벡터 결합\n",
        "    if input_color_text:\n",
        "        color_embeddings = get_sentence_embedding(input_color_text, tokenizer, model)\n",
        "        user_vector = np.concatenate((input_embeddings, color_embeddings, user_onehot_vector), axis=1)\n",
        "    else:\n",
        "        user_vector = np.concatenate((input_embeddings, user_onehot_vector), axis=1)\n",
        "\n",
        "    return user_vector"
      ]
    },
    {
      "cell_type": "markdown",
      "metadata": {
        "id": "sjKZUUqixVKB"
      },
      "source": [
        "특정 이벤트에 가중치를 부여하는 함수\n"
      ]
    },
    {
      "cell_type": "code",
      "execution_count": 223,
      "metadata": {
        "id": "MOcKILj_xW-5"
      },
      "outputs": [],
      "source": [
        "# 특정 이벤트에 가중치를 부여하는 함수 (각 행마다 개별 적용)\n",
        "def apply_event_weight_for_row(user_input, row):\n",
        "    user_input = lexicon_replace(user_input) \n",
        "    \n",
        "    event_weights = {\n",
        "        '발렌타인': 1.2,\n",
        "        '화이트': 1.2,\n",
        "        '어버이날': 1.2,\n",
        "        '어버이': 1.2,\n",
        "        '부모': 1.2,\n",
        "        '부모님': 1.2,\n",
        "        '성년의날': 1.2,\n",
        "        '성년': 1.2,\n",
        "        '로즈데이': 1.2,\n",
        "        '로즈': 1.2,\n",
        "        '스승의날': 1.2,\n",
        "        '선생': 1.2,\n",
        "        '스승': 1.2,\n",
        "        '선생님': 1.2,\n",
        "        '연인': 1.2,\n",
        "        '생일': 1.2,\n",
        "        '기념일': 1.2,\n",
        "        '사랑': 1.2,\n",
        "        '졸업':1.2\n",
        "    }\n",
        "    weight = 1.0\n",
        "    for event, event_weight in event_weights.items():\n",
        "        if event in user_input:\n",
        "            weight = event_weight\n",
        "            break\n",
        "\n",
        "    # 월 가중치 적용\n",
        "    month, _ = extract_month_season(user_input)\n",
        "    if month is not None:\n",
        "        weight *= 1.2\n",
        "\n",
        "    # 계절 가중치 적용\n",
        "    season, _ = extract_month_season(user_input)\n",
        "    if season is not None:\n",
        "        weight *= 1.2\n",
        "\n",
        "    # 꽃의 설명2에 따른 추가 가중치 적용\n",
        "    if any(event in row['설명2'] for event in event_weights.keys() if event in user_input):\n",
        "        weight *= 1.2\n",
        "    # 월에 따른 추가 가중치 적용\n",
        "    if month and isinstance(row['월'], int) and month == row['월']:\n",
        "        weight *= 1.2\n",
        "    # 계절에 따른 추가 가중치 적용\n",
        "    if season and isinstance(row['계절'], str) and season == row['계절']:\n",
        "        weight *= 1.2\n",
        "\n",
        "    return weight"
      ]
    },
    {
      "cell_type": "code",
      "execution_count": 224,
      "metadata": {},
      "outputs": [],
      "source": [
        "# 사용자 입력과 KLUE 모델 유사도 구하기\n",
        "def Klue_similarities(user_input, user_month=None):\n",
        "    user_vector = get_user_input_vector(user_input, user_month)\n",
        "    input_color = extract_color(user_input)\n",
        "    df = df_nlp\n",
        "\n",
        "    if input_color:\n",
        "        # 색상이 명시된 경우 해당 색상의 꽃들로 필터링\n",
        "        filtered_df = df[df['색상'] == input_color]\n",
        "        filtered_df['최종_벡터'] = filtered_df.apply(lambda row: create_combined_vector(row), axis=1)\n",
        "    else:\n",
        "        # 색상이 명시되지 않은 경우 결합 벡터에서 색상 벡터를 제외\n",
        "        filtered_df = df.copy()\n",
        "        filtered_df['최종_벡터'] = filtered_df.apply(lambda row: create_combined_vector_without_color(row), axis=1)\n",
        "\n",
        "    # 각 행에 대해 가중치 계산 및 유사도 산출\n",
        "    filtered_df['유사도'] = filtered_df.apply(lambda row: cosine_similarity(user_vector, np.array(row['최종_벡터']).reshape(1, -1))[0][0] * apply_event_weight_for_row(user_input, row), axis=1)\n",
        "    filtered_df['유사도'] = filtered_df['유사도'].astype(float)  # 숫자형으로 변환\n",
        "\n",
        "    return filtered_df['유사도']"
      ]
    },
    {
      "cell_type": "code",
      "execution_count": 191,
      "metadata": {},
      "outputs": [],
      "source": [
        "user_input = \"여자친구와 1주년이야\""
      ]
    },
    {
      "cell_type": "code",
      "execution_count": 192,
      "metadata": {},
      "outputs": [
        {
          "data": {
            "text/html": [
              "<div>\n",
              "<style scoped>\n",
              "    .dataframe tbody tr th:only-of-type {\n",
              "        vertical-align: middle;\n",
              "    }\n",
              "\n",
              "    .dataframe tbody tr th {\n",
              "        vertical-align: top;\n",
              "    }\n",
              "\n",
              "    .dataframe thead th {\n",
              "        text-align: right;\n",
              "    }\n",
              "</style>\n",
              "<table border=\"1\" class=\"dataframe\">\n",
              "  <thead>\n",
              "    <tr style=\"text-align: right;\">\n",
              "      <th></th>\n",
              "      <th>꽃</th>\n",
              "      <th>꽃말</th>\n",
              "      <th>설명</th>\n",
              "      <th>색상</th>\n",
              "      <th>설명2</th>\n",
              "      <th>색상2</th>\n",
              "      <th>설명_벡터</th>\n",
              "      <th>색상_벡터</th>\n",
              "      <th>원핫인코딩</th>\n",
              "      <th>klue_similarity</th>\n",
              "      <th>tfidf_similarity</th>\n",
              "      <th>model_similarity</th>\n",
              "      <th>combined_similarity</th>\n",
              "    </tr>\n",
              "  </thead>\n",
              "  <tbody>\n",
              "    <tr>\n",
              "      <th>0</th>\n",
              "      <td>각시붓꽃</td>\n",
              "      <td>부끄러움, 세련됨</td>\n",
              "      <td>부끄러움 세련됨. 각시라 하면 이제 막 시집 온 새색시를 연상케 한다. 그래서인지 ...</td>\n",
              "      <td>보라</td>\n",
              "      <td>[CLS] 부끄러움 세련됨 [SEP] [CLS] 각시라 하면 이제 막 시집 온 새색...</td>\n",
              "      <td>[CLS] 보라 [SEP]</td>\n",
              "      <td>[[0.07368195801973343, 0.15451766550540924, 0....</td>\n",
              "      <td>[[0.15296272933483124, 0.3076050877571106, -0....</td>\n",
              "      <td>[[0.0, 0.0, 1.0, 0.0, 0.0, 0.0, 0.0, 0.0, 0.0,...</td>\n",
              "      <td>0.877557</td>\n",
              "      <td>0.0</td>\n",
              "      <td>0.878938</td>\n",
              "      <td>0.221724</td>\n",
              "    </tr>\n",
              "    <tr>\n",
              "      <th>1</th>\n",
              "      <td>감국</td>\n",
              "      <td>그윽한 향기</td>\n",
              "      <td>그윽한 향기. 가을 산야는 국화과 식물들 차지다. 특히 노란 꽃으로 향기까지 일품인...</td>\n",
              "      <td>노랑</td>\n",
              "      <td>[CLS] 그윽한 향기 [SEP] [CLS] 가을 산야는 국화과 식물들 차지다 [S...</td>\n",
              "      <td>[CLS] 노랑 [SEP]</td>\n",
              "      <td>[[0.08965592086315155, 0.2825712561607361, 0.1...</td>\n",
              "      <td>[[0.11612437665462494, 0.3139854669570923, -0....</td>\n",
              "      <td>[[0.0, 0.0, 0.0, 0.0, 0.0, 0.0, 0.0, 0.0, 0.0,...</td>\n",
              "      <td>0.874542</td>\n",
              "      <td>0.0</td>\n",
              "      <td>0.870351</td>\n",
              "      <td>0.204698</td>\n",
              "    </tr>\n",
              "    <tr>\n",
              "      <th>2</th>\n",
              "      <td>개나리</td>\n",
              "      <td>희망,깊은 정, 달성</td>\n",
              "      <td>희망깊은 정 달성. 우리나라 전역에서 봄 소식을 가장 먼저 알려주는 대표적인 꽃 개...</td>\n",
              "      <td>노랑</td>\n",
              "      <td>[CLS] 희망깊은 정 달성 [SEP] [CLS] 우리나라 전역에서 봄 소식을 가장...</td>\n",
              "      <td>[CLS] 노랑 [SEP]</td>\n",
              "      <td>[[0.13718879222869873, 0.23945458233356476, 0....</td>\n",
              "      <td>[[0.11612437665462494, 0.3139854669570923, -0....</td>\n",
              "      <td>[[0.0, 0.0, 1.0, 0.0, 0.0, 0.0, 0.0, 0.0, 0.0,...</td>\n",
              "      <td>0.888367</td>\n",
              "      <td>0.0</td>\n",
              "      <td>0.889008</td>\n",
              "      <td>0.285720</td>\n",
              "    </tr>\n",
              "    <tr>\n",
              "      <th>3</th>\n",
              "      <td>개나리</td>\n",
              "      <td>희망</td>\n",
              "      <td>희망. 개나리 봄을 알리는 전령사 하면 가장 먼저 떠오르는 꽃이다. 나리나리 개나리...</td>\n",
              "      <td>노랑</td>\n",
              "      <td>[CLS] 희망 [SEP] [CLS] 개나리 봄을 알리는 전령사 하면 가장 먼저 떠...</td>\n",
              "      <td>[CLS] 노랑 [SEP]</td>\n",
              "      <td>[[-0.06287881731987, 0.3564964234828949, 0.256...</td>\n",
              "      <td>[[0.11612437665462494, 0.3139854669570923, -0....</td>\n",
              "      <td>[[0.0, 0.0, 0.0, 1.0, 0.0, 0.0, 0.0, 0.0, 0.0,...</td>\n",
              "      <td>0.862052</td>\n",
              "      <td>0.0</td>\n",
              "      <td>0.859821</td>\n",
              "      <td>0.075367</td>\n",
              "    </tr>\n",
              "    <tr>\n",
              "      <th>4</th>\n",
              "      <td>갯개미취</td>\n",
              "      <td>추억</td>\n",
              "      <td>추억. 옛날 일 따위는 깨끗이 잊는 사람들이 많은 가운데서도 당신은 옛 일을 어제 ...</td>\n",
              "      <td>보라</td>\n",
              "      <td>[CLS] 추억 [SEP] [CLS] 옛날 일 따위는 깨끗이 잊는 사람들이 많은 가...</td>\n",
              "      <td>[CLS] 보라 [SEP]</td>\n",
              "      <td>[[0.17346309125423431, 0.0834614634513855, 0.0...</td>\n",
              "      <td>[[0.15296272933483124, 0.3076050877571106, -0....</td>\n",
              "      <td>[[0.0, 0.0, 0.0, 0.0, 0.0, 0.0, 0.0, 0.0, 1.0,...</td>\n",
              "      <td>0.931048</td>\n",
              "      <td>0.0</td>\n",
              "      <td>0.934319</td>\n",
              "      <td>0.651421</td>\n",
              "    </tr>\n",
              "  </tbody>\n",
              "</table>\n",
              "</div>"
            ],
            "text/plain": [
              "      꽃           꽃말                                                 설명  색상  \\\n",
              "0  각시붓꽃    부끄러움, 세련됨  부끄러움 세련됨. 각시라 하면 이제 막 시집 온 새색시를 연상케 한다. 그래서인지 ...  보라   \n",
              "1    감국       그윽한 향기  그윽한 향기. 가을 산야는 국화과 식물들 차지다. 특히 노란 꽃으로 향기까지 일품인...  노랑   \n",
              "2   개나리  희망,깊은 정, 달성  희망깊은 정 달성. 우리나라 전역에서 봄 소식을 가장 먼저 알려주는 대표적인 꽃 개...  노랑   \n",
              "3   개나리           희망  희망. 개나리 봄을 알리는 전령사 하면 가장 먼저 떠오르는 꽃이다. 나리나리 개나리...  노랑   \n",
              "4  갯개미취           추억  추억. 옛날 일 따위는 깨끗이 잊는 사람들이 많은 가운데서도 당신은 옛 일을 어제 ...  보라   \n",
              "\n",
              "                                                 설명2             색상2  \\\n",
              "0  [CLS] 부끄러움 세련됨 [SEP] [CLS] 각시라 하면 이제 막 시집 온 새색...  [CLS] 보라 [SEP]   \n",
              "1  [CLS] 그윽한 향기 [SEP] [CLS] 가을 산야는 국화과 식물들 차지다 [S...  [CLS] 노랑 [SEP]   \n",
              "2  [CLS] 희망깊은 정 달성 [SEP] [CLS] 우리나라 전역에서 봄 소식을 가장...  [CLS] 노랑 [SEP]   \n",
              "3  [CLS] 희망 [SEP] [CLS] 개나리 봄을 알리는 전령사 하면 가장 먼저 떠...  [CLS] 노랑 [SEP]   \n",
              "4  [CLS] 추억 [SEP] [CLS] 옛날 일 따위는 깨끗이 잊는 사람들이 많은 가...  [CLS] 보라 [SEP]   \n",
              "\n",
              "                                               설명_벡터  \\\n",
              "0  [[0.07368195801973343, 0.15451766550540924, 0....   \n",
              "1  [[0.08965592086315155, 0.2825712561607361, 0.1...   \n",
              "2  [[0.13718879222869873, 0.23945458233356476, 0....   \n",
              "3  [[-0.06287881731987, 0.3564964234828949, 0.256...   \n",
              "4  [[0.17346309125423431, 0.0834614634513855, 0.0...   \n",
              "\n",
              "                                               색상_벡터  \\\n",
              "0  [[0.15296272933483124, 0.3076050877571106, -0....   \n",
              "1  [[0.11612437665462494, 0.3139854669570923, -0....   \n",
              "2  [[0.11612437665462494, 0.3139854669570923, -0....   \n",
              "3  [[0.11612437665462494, 0.3139854669570923, -0....   \n",
              "4  [[0.15296272933483124, 0.3076050877571106, -0....   \n",
              "\n",
              "                                               원핫인코딩  klue_similarity  \\\n",
              "0  [[0.0, 0.0, 1.0, 0.0, 0.0, 0.0, 0.0, 0.0, 0.0,...         0.877557   \n",
              "1  [[0.0, 0.0, 0.0, 0.0, 0.0, 0.0, 0.0, 0.0, 0.0,...         0.874542   \n",
              "2  [[0.0, 0.0, 1.0, 0.0, 0.0, 0.0, 0.0, 0.0, 0.0,...         0.888367   \n",
              "3  [[0.0, 0.0, 0.0, 1.0, 0.0, 0.0, 0.0, 0.0, 0.0,...         0.862052   \n",
              "4  [[0.0, 0.0, 0.0, 0.0, 0.0, 0.0, 0.0, 0.0, 1.0,...         0.931048   \n",
              "\n",
              "   tfidf_similarity  model_similarity  combined_similarity  \n",
              "0               0.0          0.878938             0.221724  \n",
              "1               0.0          0.870351             0.204698  \n",
              "2               0.0          0.889008             0.285720  \n",
              "3               0.0          0.859821             0.075367  \n",
              "4               0.0          0.934319             0.651421  "
            ]
          },
          "execution_count": 192,
          "metadata": {},
          "output_type": "execute_result"
        }
      ],
      "source": [
        "df_nlp['model_similarity'] = Klue_similarities(user_input , 7)\n",
        "df_nlp.head(5)"
      ]
    },
    {
      "cell_type": "markdown",
      "metadata": {
        "id": "opULo8p8FO1p"
      },
      "source": [
        "### tfidf 적용\n",
        "- add context 적용하지 않고 user_input 그대로 input들어가야함\n",
        "- 텍스트 변환없이 그대로 사용 (점 추가, 명사 문장화, 월 추출 등 제외)"
      ]
    },
    {
      "cell_type": "markdown",
      "metadata": {
        "id": "mFLJQngjxZV9"
      },
      "source": [
        "추천 시스템 함수\n"
      ]
    },
    {
      "cell_type": "code",
      "execution_count": 225,
      "metadata": {},
      "outputs": [],
      "source": [
        "# 추천 시스템 함수 (코사인 유사도 기반)\n",
        "def recommend_flower(user_input, user_month=None):\n",
        "    df_nlp['model_similarity'] = Klue_similarities(user_input,user_month)\n",
        "\n",
        "    # TfidfVectorizer\n",
        "    tfidf_vectorizer = TfidfVectorizer()\n",
        "    tfidf_matrix = tfidf_vectorizer.fit_transform(df_nlp['설명']) # 문서 집합을 tfidf 벡터화\n",
        "    user_tfidf = tfidf_vectorizer.transform([user_input]) # 사용자 입력 TF-IDF 벡터화\n",
        "    # 각 문서와 사용자 입력 간의 코사인 유사도 계산\n",
        "    similarities = cosine_similarity(user_tfidf, tfidf_matrix)\n",
        "    similarities = pd.DataFrame(similarities.reshape(-1,1))\n",
        "    df_nlp['tfidf_similarity'] = similarities.astype(float) \n",
        "        \n",
        "    # 정규화 (0-1 범위로)\n",
        "    semantic_similarities = (df_nlp['model_similarity'] - df_nlp['model_similarity'].min()) / (df_nlp['model_similarity'].max() - df_nlp['model_similarity'].min())\n",
        "    tfidf_similarities = (df_nlp['tfidf_similarity'] - df_nlp['tfidf_similarity'].min()) / (df_nlp['tfidf_similarity'].max() - df_nlp['tfidf_similarity'].min())\n",
        "    tfidf_similarities = tfidf_similarities.fillna(0) # NaN 값을 0으로 대체\n",
        "\n",
        "    # 가중치 적용 및 결합\n",
        "    semantic_weight=0.8\n",
        "    keyword_weight = 1 - semantic_weight\n",
        "    combined_scores = (semantic_weight * semantic_similarities +\n",
        "                        keyword_weight * tfidf_similarities)\n",
        "    df_nlp['combined_similarity'] = combined_scores\n",
        "    \n",
        "    # 유사도를 기준으로 상위 3개의 꽃을 선택하고 중복된 꽃을 제거\n",
        "    top3 = df_nlp.nlargest(3, 'combined_similarity').drop_duplicates(subset='꽃')\n",
        "\n",
        "    # 만약 중복 제거 후 3개의 꽃이 되지 않는 경우, 다시 nlargest로 채우기\n",
        "    if top3.shape[0] < 3:\n",
        "        additional_top = df_nlp.nlargest(20, 'combined_similarity')  # 상위 20개 정도를 선택\n",
        "        additional_top = additional_top[~additional_top['꽃'].isin(top3['꽃'])]\n",
        "        top3 = pd.concat([top3, additional_top]).nlargest(3, '유사도').drop_duplicates(subset='꽃')\n",
        "\n",
        "    return top3[['꽃', '꽃말', 'combined_similarity']].to_dict('records')"
      ]
    },
    {
      "cell_type": "code",
      "execution_count": 226,
      "metadata": {},
      "outputs": [
        {
          "data": {
            "text/plain": [
              "[{'꽃': '아도니스', '꽃말': '영원한 행복', 'combined_similarity': 0.8},\n",
              " {'꽃': '협죽도', '꽃말': '위험', 'combined_similarity': 0.7927276422966132},\n",
              " {'꽃': '금작화', '꽃말': '박애', 'combined_similarity': 0.7875043640175083}]"
            ]
          },
          "execution_count": 226,
          "metadata": {},
          "output_type": "execute_result"
        }
      ],
      "source": [
        "user_input = \"여자친구와 기념일이야\"\n",
        "recommend_flower(user_input, 7)"
      ]
    },
    {
      "cell_type": "code",
      "execution_count": 229,
      "metadata": {},
      "outputs": [
        {
          "data": {
            "text/plain": [
              "[{'꽃': '아도니스', '꽃말': '영원한 행복', 'combined_similarity': 0.8},\n",
              " {'꽃': '협죽도', '꽃말': '위험', 'combined_similarity': 0.7927276422966132},\n",
              " {'꽃': '금작화', '꽃말': '박애', 'combined_similarity': 0.7875043640175083}]"
            ]
          },
          "execution_count": 229,
          "metadata": {},
          "output_type": "execute_result"
        }
      ],
      "source": [
        "user_input = \"연인와 기념일이야\"\n",
        "recommend_flower(user_input, 7)"
      ]
    }
  ],
  "metadata": {
    "colab": {
      "provenance": []
    },
    "kernelspec": {
      "display_name": "Python 3",
      "name": "python3"
    },
    "language_info": {
      "codemirror_mode": {
        "name": "ipython",
        "version": 3
      },
      "file_extension": ".py",
      "mimetype": "text/x-python",
      "name": "python",
      "nbconvert_exporter": "python",
      "pygments_lexer": "ipython3",
      "version": "3.11.4"
    }
  },
  "nbformat": 4,
  "nbformat_minor": 0
}
