{
 "cells": [
  {
   "cell_type": "code",
   "execution_count": 833,
   "metadata": {},
   "outputs": [],
   "source": [
    "import numpy as np\n",
    "import pandas as pd\n",
    "\n",
    "import matplotlib.pyplot as plt\n",
    "import seaborn as sns\n",
    "\n",
    "from konlpy.tag import *\n",
    "from collections import Counter\n",
    "from transformers import BertModel, BertTokenizer\n",
    "from sklearn.preprocessing import OneHotEncoder\n",
    "\n",
    "import tensorflow as tf\n",
    "import torch"
   ]
  },
  {
   "cell_type": "markdown",
   "metadata": {},
   "source": [
    "## 추천 시스템 모델링\n",
    "1. 전처리\n",
    "2. 토큰화, 벡터화(bert)\n",
    "3. 사용자 입력 및 유사도 계산"
   ]
  },
  {
   "cell_type": "code",
   "execution_count": 866,
   "metadata": {},
   "outputs": [],
   "source": [
    "#파일 가져오기\n",
    "df_file = \"C:/Users/pc/Desktop/민지/동아리/프로젝트(13기)/최종_데이터셋.csv\"\n",
    "stopword_file = \"C:/Users/pc/Desktop/민지/동아리/프로젝트(13기)/불용어리스트_한국어.txt\""
   ]
  },
  {
   "cell_type": "code",
   "execution_count": 867,
   "metadata": {},
   "outputs": [
    {
     "data": {
      "text/html": [
       "<div>\n",
       "<style scoped>\n",
       "    .dataframe tbody tr th:only-of-type {\n",
       "        vertical-align: middle;\n",
       "    }\n",
       "\n",
       "    .dataframe tbody tr th {\n",
       "        vertical-align: top;\n",
       "    }\n",
       "\n",
       "    .dataframe thead th {\n",
       "        text-align: right;\n",
       "    }\n",
       "</style>\n",
       "<table border=\"1\" class=\"dataframe\">\n",
       "  <thead>\n",
       "    <tr style=\"text-align: right;\">\n",
       "      <th></th>\n",
       "      <th>꽃</th>\n",
       "      <th>월</th>\n",
       "      <th>계절</th>\n",
       "      <th>꽃말</th>\n",
       "      <th>설명</th>\n",
       "      <th>이미지</th>\n",
       "    </tr>\n",
       "  </thead>\n",
       "  <tbody>\n",
       "    <tr>\n",
       "      <th>0</th>\n",
       "      <td>검은포플라</td>\n",
       "      <td>1</td>\n",
       "      <td>겨울</td>\n",
       "      <td>용기</td>\n",
       "      <td>당신은 용기가 있어 주위 사람들도 당신을 의지하고 있습니다. 그렇다고 해서 자기만족...</td>\n",
       "      <td>https://mblogthumb-phinf.pstatic.net/MjAyMjAxM...</td>\n",
       "    </tr>\n",
       "    <tr>\n",
       "      <th>1</th>\n",
       "      <td>군자란</td>\n",
       "      <td>1</td>\n",
       "      <td>겨울</td>\n",
       "      <td>고귀</td>\n",
       "      <td>君子蘭(군자란)은 이름 끝에 ‘란’이라고 되어있어서 난 종류일거라 생각하기도 하지만...</td>\n",
       "      <td>https://www.nihhs.go.kr/user/AttachFiles/FLOWF...</td>\n",
       "    </tr>\n",
       "    <tr>\n",
       "      <th>2</th>\n",
       "      <td>나도풍란</td>\n",
       "      <td>1</td>\n",
       "      <td>겨울</td>\n",
       "      <td>인내</td>\n",
       "      <td>남부지역의 바위나 나무에 붙어사는 난이다. 보통 풍란 하면 소엽풍란을 말한다. 나도...</td>\n",
       "      <td>https://www.nihhs.go.kr/user/AttachFiles/FLOWF...</td>\n",
       "    </tr>\n",
       "    <tr>\n",
       "      <th>3</th>\n",
       "      <td>노랑 히야신</td>\n",
       "      <td>1</td>\n",
       "      <td>겨울</td>\n",
       "      <td>승부</td>\n",
       "      <td>당신은 언제나 엄격하지 않으면 못견뎌 하는 성격입니다. 엄격히 하는 것도 시간과 경...</td>\n",
       "      <td>https://img1.daumcdn.net/thumb/R720x0.q80/?sco...</td>\n",
       "    </tr>\n",
       "    <tr>\n",
       "      <th>4</th>\n",
       "      <td>노랑수선화</td>\n",
       "      <td>1</td>\n",
       "      <td>겨울</td>\n",
       "      <td>사랑에 답하여</td>\n",
       "      <td>당신은 추진력이 강한 운명을 타고 났습니다. 따라서 아무리 불가능해 보이는 사랑도 ...</td>\n",
       "      <td>https://blog.kakaocdn.net/dn/v1i65/btqRoRsgqCT...</td>\n",
       "    </tr>\n",
       "  </tbody>\n",
       "</table>\n",
       "</div>"
      ],
      "text/plain": [
       "        꽃  월  계절       꽃말                                                 설명  \\\n",
       "0   검은포플라  1  겨울       용기  당신은 용기가 있어 주위 사람들도 당신을 의지하고 있습니다. 그렇다고 해서 자기만족...   \n",
       "1     군자란  1  겨울       고귀  君子蘭(군자란)은 이름 끝에 ‘란’이라고 되어있어서 난 종류일거라 생각하기도 하지만...   \n",
       "2    나도풍란  1  겨울       인내  남부지역의 바위나 나무에 붙어사는 난이다. 보통 풍란 하면 소엽풍란을 말한다. 나도...   \n",
       "3  노랑 히야신  1  겨울       승부  당신은 언제나 엄격하지 않으면 못견뎌 하는 성격입니다. 엄격히 하는 것도 시간과 경...   \n",
       "4   노랑수선화  1  겨울  사랑에 답하여  당신은 추진력이 강한 운명을 타고 났습니다. 따라서 아무리 불가능해 보이는 사랑도 ...   \n",
       "\n",
       "                                                 이미지  \n",
       "0  https://mblogthumb-phinf.pstatic.net/MjAyMjAxM...  \n",
       "1  https://www.nihhs.go.kr/user/AttachFiles/FLOWF...  \n",
       "2  https://www.nihhs.go.kr/user/AttachFiles/FLOWF...  \n",
       "3  https://img1.daumcdn.net/thumb/R720x0.q80/?sco...  \n",
       "4  https://blog.kakaocdn.net/dn/v1i65/btqRoRsgqCT...  "
      ]
     },
     "execution_count": 867,
     "metadata": {},
     "output_type": "execute_result"
    }
   ],
   "source": [
    "df = pd.read_csv(df_file, encoding='CP949')\n",
    "df.drop(\"Unnamed: 0\", axis=1, inplace=True)\n",
    "df.head(5)"
   ]
  },
  {
   "cell_type": "code",
   "execution_count": 868,
   "metadata": {},
   "outputs": [
    {
     "name": "stdout",
     "output_type": "stream",
     "text": [
      "(845, 3)\n"
     ]
    },
    {
     "data": {
      "text/html": [
       "<div>\n",
       "<style scoped>\n",
       "    .dataframe tbody tr th:only-of-type {\n",
       "        vertical-align: middle;\n",
       "    }\n",
       "\n",
       "    .dataframe tbody tr th {\n",
       "        vertical-align: top;\n",
       "    }\n",
       "\n",
       "    .dataframe thead th {\n",
       "        text-align: right;\n",
       "    }\n",
       "</style>\n",
       "<table border=\"1\" class=\"dataframe\">\n",
       "  <thead>\n",
       "    <tr style=\"text-align: right;\">\n",
       "      <th></th>\n",
       "      <th>꽃</th>\n",
       "      <th>꽃말</th>\n",
       "      <th>설명</th>\n",
       "    </tr>\n",
       "  </thead>\n",
       "  <tbody>\n",
       "    <tr>\n",
       "      <th>0</th>\n",
       "      <td>검은포플라</td>\n",
       "      <td>용기</td>\n",
       "      <td>당신은 용기가 있어 주위 사람들도 당신을 의지하고 있습니다. 그렇다고 해서 자기만족...</td>\n",
       "    </tr>\n",
       "    <tr>\n",
       "      <th>1</th>\n",
       "      <td>군자란</td>\n",
       "      <td>고귀</td>\n",
       "      <td>君子蘭(군자란)은 이름 끝에 ‘란’이라고 되어있어서 난 종류일거라 생각하기도 하지만...</td>\n",
       "    </tr>\n",
       "    <tr>\n",
       "      <th>2</th>\n",
       "      <td>나도풍란</td>\n",
       "      <td>인내</td>\n",
       "      <td>남부지역의 바위나 나무에 붙어사는 난이다. 보통 풍란 하면 소엽풍란을 말한다. 나도...</td>\n",
       "    </tr>\n",
       "    <tr>\n",
       "      <th>3</th>\n",
       "      <td>노랑 히야신</td>\n",
       "      <td>승부</td>\n",
       "      <td>당신은 언제나 엄격하지 않으면 못견뎌 하는 성격입니다. 엄격히 하는 것도 시간과 경...</td>\n",
       "    </tr>\n",
       "    <tr>\n",
       "      <th>4</th>\n",
       "      <td>노랑수선화</td>\n",
       "      <td>사랑에 답하여</td>\n",
       "      <td>당신은 추진력이 강한 운명을 타고 났습니다. 따라서 아무리 불가능해 보이는 사랑도 ...</td>\n",
       "    </tr>\n",
       "  </tbody>\n",
       "</table>\n",
       "</div>"
      ],
      "text/plain": [
       "        꽃       꽃말                                                 설명\n",
       "0   검은포플라       용기  당신은 용기가 있어 주위 사람들도 당신을 의지하고 있습니다. 그렇다고 해서 자기만족...\n",
       "1     군자란       고귀  君子蘭(군자란)은 이름 끝에 ‘란’이라고 되어있어서 난 종류일거라 생각하기도 하지만...\n",
       "2    나도풍란       인내  남부지역의 바위나 나무에 붙어사는 난이다. 보통 풍란 하면 소엽풍란을 말한다. 나도...\n",
       "3  노랑 히야신       승부  당신은 언제나 엄격하지 않으면 못견뎌 하는 성격입니다. 엄격히 하는 것도 시간과 경...\n",
       "4   노랑수선화  사랑에 답하여  당신은 추진력이 강한 운명을 타고 났습니다. 따라서 아무리 불가능해 보이는 사랑도 ..."
      ]
     },
     "execution_count": 868,
     "metadata": {},
     "output_type": "execute_result"
    }
   ],
   "source": [
    "#nlp처리 할 데이터만 가져오기\n",
    "df_nlp = df[[\"꽃\",\"꽃말\", \"설명\"]]\n",
    "print(df_nlp.shape)\n",
    "df_nlp.head(5)"
   ]
  },
  {
   "cell_type": "code",
   "execution_count": 869,
   "metadata": {},
   "outputs": [
    {
     "name": "stderr",
     "output_type": "stream",
     "text": [
      "C:\\Users\\pc\\AppData\\Local\\Temp\\ipykernel_8840\\3361795772.py:2: SettingWithCopyWarning: \n",
      "A value is trying to be set on a copy of a slice from a DataFrame.\n",
      "Try using .loc[row_indexer,col_indexer] = value instead\n",
      "\n",
      "See the caveats in the documentation: https://pandas.pydata.org/pandas-docs/stable/user_guide/indexing.html#returning-a-view-versus-a-copy\n",
      "  df_nlp['설명'] = df_nlp['꽃말'] + \" \" + df_nlp['설명']\n",
      "C:\\Users\\pc\\AppData\\Local\\Temp\\ipykernel_8840\\3361795772.py:3: SettingWithCopyWarning: \n",
      "A value is trying to be set on a copy of a slice from a DataFrame\n",
      "\n",
      "See the caveats in the documentation: https://pandas.pydata.org/pandas-docs/stable/user_guide/indexing.html#returning-a-view-versus-a-copy\n",
      "  df_nlp.drop(\"꽃말\", axis=1, inplace=True)\n"
     ]
    },
    {
     "data": {
      "text/html": [
       "<div>\n",
       "<style scoped>\n",
       "    .dataframe tbody tr th:only-of-type {\n",
       "        vertical-align: middle;\n",
       "    }\n",
       "\n",
       "    .dataframe tbody tr th {\n",
       "        vertical-align: top;\n",
       "    }\n",
       "\n",
       "    .dataframe thead th {\n",
       "        text-align: right;\n",
       "    }\n",
       "</style>\n",
       "<table border=\"1\" class=\"dataframe\">\n",
       "  <thead>\n",
       "    <tr style=\"text-align: right;\">\n",
       "      <th></th>\n",
       "      <th>꽃</th>\n",
       "      <th>설명</th>\n",
       "    </tr>\n",
       "  </thead>\n",
       "  <tbody>\n",
       "    <tr>\n",
       "      <th>0</th>\n",
       "      <td>검은포플라</td>\n",
       "      <td>용기 당신은 용기가 있어 주위 사람들도 당신을 의지하고 있습니다. 그렇다고 해서 자...</td>\n",
       "    </tr>\n",
       "    <tr>\n",
       "      <th>1</th>\n",
       "      <td>군자란</td>\n",
       "      <td>고귀 君子蘭(군자란)은 이름 끝에 ‘란’이라고 되어있어서 난 종류일거라 생각하기도 ...</td>\n",
       "    </tr>\n",
       "    <tr>\n",
       "      <th>2</th>\n",
       "      <td>나도풍란</td>\n",
       "      <td>인내 남부지역의 바위나 나무에 붙어사는 난이다. 보통 풍란 하면 소엽풍란을 말한다....</td>\n",
       "    </tr>\n",
       "    <tr>\n",
       "      <th>3</th>\n",
       "      <td>노랑 히야신</td>\n",
       "      <td>승부 당신은 언제나 엄격하지 않으면 못견뎌 하는 성격입니다. 엄격히 하는 것도 시간...</td>\n",
       "    </tr>\n",
       "    <tr>\n",
       "      <th>4</th>\n",
       "      <td>노랑수선화</td>\n",
       "      <td>사랑에 답하여 당신은 추진력이 강한 운명을 타고 났습니다. 따라서 아무리 불가능해 ...</td>\n",
       "    </tr>\n",
       "  </tbody>\n",
       "</table>\n",
       "</div>"
      ],
      "text/plain": [
       "        꽃                                                 설명\n",
       "0   검은포플라  용기 당신은 용기가 있어 주위 사람들도 당신을 의지하고 있습니다. 그렇다고 해서 자...\n",
       "1     군자란  고귀 君子蘭(군자란)은 이름 끝에 ‘란’이라고 되어있어서 난 종류일거라 생각하기도 ...\n",
       "2    나도풍란  인내 남부지역의 바위나 나무에 붙어사는 난이다. 보통 풍란 하면 소엽풍란을 말한다....\n",
       "3  노랑 히야신  승부 당신은 언제나 엄격하지 않으면 못견뎌 하는 성격입니다. 엄격히 하는 것도 시간...\n",
       "4   노랑수선화  사랑에 답하여 당신은 추진력이 강한 운명을 타고 났습니다. 따라서 아무리 불가능해 ..."
      ]
     },
     "execution_count": 869,
     "metadata": {},
     "output_type": "execute_result"
    }
   ],
   "source": [
    "#꽃말과 설명 합치기\n",
    "df_nlp['설명'] = df_nlp['꽃말'] + \" \" + df_nlp['설명']\n",
    "df_nlp.drop(\"꽃말\", axis=1, inplace=True)\n",
    "df_nlp.head(5)"
   ]
  },
  {
   "cell_type": "markdown",
   "metadata": {},
   "source": [
    "#### 1. 전처리"
   ]
  },
  {
   "cell_type": "code",
   "execution_count": 870,
   "metadata": {},
   "outputs": [
    {
     "name": "stderr",
     "output_type": "stream",
     "text": [
      "C:\\Users\\pc\\AppData\\Local\\Temp\\ipykernel_8840\\2858685949.py:15: SettingWithCopyWarning: \n",
      "A value is trying to be set on a copy of a slice from a DataFrame.\n",
      "Try using .loc[row_indexer,col_indexer] = value instead\n",
      "\n",
      "See the caveats in the documentation: https://pandas.pydata.org/pandas-docs/stable/user_guide/indexing.html#returning-a-view-versus-a-copy\n",
      "  df_nlp['설명'] = df_nlp['설명'].apply(remove_special_characters)\n"
     ]
    },
    {
     "data": {
      "text/html": [
       "<div>\n",
       "<style scoped>\n",
       "    .dataframe tbody tr th:only-of-type {\n",
       "        vertical-align: middle;\n",
       "    }\n",
       "\n",
       "    .dataframe tbody tr th {\n",
       "        vertical-align: top;\n",
       "    }\n",
       "\n",
       "    .dataframe thead th {\n",
       "        text-align: right;\n",
       "    }\n",
       "</style>\n",
       "<table border=\"1\" class=\"dataframe\">\n",
       "  <thead>\n",
       "    <tr style=\"text-align: right;\">\n",
       "      <th></th>\n",
       "      <th>꽃</th>\n",
       "      <th>설명</th>\n",
       "    </tr>\n",
       "  </thead>\n",
       "  <tbody>\n",
       "    <tr>\n",
       "      <th>0</th>\n",
       "      <td>검은포플라</td>\n",
       "      <td>용기 당신은 용기가 있어 주위 사람들도 당신을 의지하고 있습니다 그렇다고 해서 자기...</td>\n",
       "    </tr>\n",
       "    <tr>\n",
       "      <th>1</th>\n",
       "      <td>군자란</td>\n",
       "      <td>고귀 군자란은 이름 끝에 란이라고 되어있어서 난 종류일거라 생각하기도 하지만 난과는...</td>\n",
       "    </tr>\n",
       "    <tr>\n",
       "      <th>2</th>\n",
       "      <td>나도풍란</td>\n",
       "      <td>인내 남부지역의 바위나 나무에 붙어사는 난이다 보통 풍란 하면 소엽풍란을 말한다 나...</td>\n",
       "    </tr>\n",
       "    <tr>\n",
       "      <th>3</th>\n",
       "      <td>노랑 히야신</td>\n",
       "      <td>승부 당신은 언제나 엄격하지 않으면 못견뎌 하는 성격입니다 엄격히 하는 것도 시간과...</td>\n",
       "    </tr>\n",
       "    <tr>\n",
       "      <th>4</th>\n",
       "      <td>노랑수선화</td>\n",
       "      <td>사랑에 답하여 당신은 추진력이 강한 운명을 타고 났습니다 따라서 아무리 불가능해 보...</td>\n",
       "    </tr>\n",
       "    <tr>\n",
       "      <th>5</th>\n",
       "      <td>노랑제비꽃</td>\n",
       "      <td>수줍은 사랑 노랑제비꽃을 탄생화로 태어난 당신은 용기 사랑 헌신을 갖고 있으니 겁쟁...</td>\n",
       "    </tr>\n",
       "    <tr>\n",
       "      <th>6</th>\n",
       "      <td>노루귀</td>\n",
       "      <td>인내 당신은 인내심이 강하고 아부를 싫어해 누구에게나 신뢰를 받지만 연애는 수동적인...</td>\n",
       "    </tr>\n",
       "    <tr>\n",
       "      <th>7</th>\n",
       "      <td>매쉬매리골드</td>\n",
       "      <td>반드시 오고야말 행복 주변 사람들이 행복해지면 자신도 역시 미소 지을 날이 옵니다 ...</td>\n",
       "    </tr>\n",
       "    <tr>\n",
       "      <th>8</th>\n",
       "      <td>미나리아재비</td>\n",
       "      <td>천진난만 부귀에 대한 욕망이 남들보다 월등히 강한당신은 자존심이 강해 다른 사람들 ...</td>\n",
       "    </tr>\n",
       "    <tr>\n",
       "      <th>9</th>\n",
       "      <td>미니 방울 수선화</td>\n",
       "      <td>자기애 자존심 고결 수선화는 튤립 히아신스와 같은 대표적인 구근식물로 다양한 품종이...</td>\n",
       "    </tr>\n",
       "  </tbody>\n",
       "</table>\n",
       "</div>"
      ],
      "text/plain": [
       "           꽃                                                 설명\n",
       "0      검은포플라  용기 당신은 용기가 있어 주위 사람들도 당신을 의지하고 있습니다 그렇다고 해서 자기...\n",
       "1        군자란  고귀 군자란은 이름 끝에 란이라고 되어있어서 난 종류일거라 생각하기도 하지만 난과는...\n",
       "2       나도풍란  인내 남부지역의 바위나 나무에 붙어사는 난이다 보통 풍란 하면 소엽풍란을 말한다 나...\n",
       "3     노랑 히야신  승부 당신은 언제나 엄격하지 않으면 못견뎌 하는 성격입니다 엄격히 하는 것도 시간과...\n",
       "4      노랑수선화  사랑에 답하여 당신은 추진력이 강한 운명을 타고 났습니다 따라서 아무리 불가능해 보...\n",
       "5      노랑제비꽃  수줍은 사랑 노랑제비꽃을 탄생화로 태어난 당신은 용기 사랑 헌신을 갖고 있으니 겁쟁...\n",
       "6        노루귀  인내 당신은 인내심이 강하고 아부를 싫어해 누구에게나 신뢰를 받지만 연애는 수동적인...\n",
       "7     매쉬매리골드  반드시 오고야말 행복 주변 사람들이 행복해지면 자신도 역시 미소 지을 날이 옵니다 ...\n",
       "8     미나리아재비  천진난만 부귀에 대한 욕망이 남들보다 월등히 강한당신은 자존심이 강해 다른 사람들 ...\n",
       "9  미니 방울 수선화  자기애 자존심 고결 수선화는 튤립 히아신스와 같은 대표적인 구근식물로 다양한 품종이..."
      ]
     },
     "execution_count": 870,
     "metadata": {},
     "output_type": "execute_result"
    }
   ],
   "source": [
    "#특수문자 및 띄어쓰기 제거\n",
    "import re\n",
    "\n",
    "def remove_special_characters(text):\n",
    "    # 특수문자 제거\n",
    "    pattern = r'[^\\w\\s\\.]' #문자,공백문자,마침표 제외 제거\n",
    "    clean_text = re.sub(pattern, '', text)\n",
    "\n",
    "    # 한자 제거\n",
    "    pattern = r'[\\u4e00-\\u9fff]' #중국어 한자의 유니코드 시작과 끝 제거\n",
    "    clean_text = re.sub(pattern, '', clean_text)\n",
    "    clean_text = ' '.join(clean_text.split())\n",
    "    return clean_text\n",
    "\n",
    "df_nlp['설명'] = df_nlp['설명'].apply(remove_special_characters)\n",
    "\n",
    "df_nlp.head(10)"
   ]
  },
  {
   "cell_type": "markdown",
   "metadata": {},
   "source": [
    "#### 2. 토큰화, 벡터화(bert)\n",
    "[토큰화]\n",
    "- bert의 토큰화 진행 시, BERT의 설계와 사전 학습된 방식에 맞추어 불용어 제거 없이 사용하는 것이 일반적으로 더 나은 성능을 발휘 </br>\n",
    "\n",
    "[벡터화]\n",
    "- bert를 통해 '꽃말', '설명' 칼럼 벡터 추출 -> 하나의 벡터로 결합\n",
    "- 월, 계절 원핫인코딩 -> 하나의 벡터\n",
    "- 총 2개의 벡터 생성 </br>\n",
    "\n",
    "*문장 벡터의 차원이 훨씬 커서 원핫 인코딩 벡터의 상대적인 중요성이 낮아질 수 있기 때문"
   ]
  },
  {
   "cell_type": "markdown",
   "metadata": {},
   "source": [
    "불용어 리스트: https://wikidocs.net/22530"
   ]
  },
  {
   "cell_type": "code",
   "execution_count": 873,
   "metadata": {},
   "outputs": [],
   "source": [
    "# BERT 모델과 토크나이저 불러오기\n",
    "\n",
    "model_name = 'monologg/kobert' # 'bert-base-multilingual-cased'\n",
    "tokenizer = BertTokenizer.from_pretrained(model_name)\n",
    "model = BertModel.from_pretrained(model_name)"
   ]
  },
  {
   "cell_type": "code",
   "execution_count": 877,
   "metadata": {},
   "outputs": [],
   "source": [
    "# 문장을 임베딩 벡터로 변환하는 함수\n",
    "def get_sentence_embedding(text, tokenizer, model):\n",
    "    inputs = tokenizer(text, return_tensors='pt', truncation=True, padding=True) #최대길이 초과 시 잘라내기, 작은 경우 패딩진행\n",
    "    outputs = model(**inputs)\n",
    "    return outputs.last_hidden_state[:, 0, :].detach().numpy() #.flatten() #2차원 -> 1차원 배열로 변환"
   ]
  },
  {
   "cell_type": "code",
   "execution_count": 878,
   "metadata": {},
   "outputs": [
    {
     "name": "stderr",
     "output_type": "stream",
     "text": [
      "C:\\Users\\pc\\AppData\\Local\\Temp\\ipykernel_8840\\724873025.py:2: SettingWithCopyWarning: \n",
      "A value is trying to be set on a copy of a slice from a DataFrame.\n",
      "Try using .loc[row_indexer,col_indexer] = value instead\n",
      "\n",
      "See the caveats in the documentation: https://pandas.pydata.org/pandas-docs/stable/user_guide/indexing.html#returning-a-view-versus-a-copy\n",
      "  df_nlp['설명_벡터'] = df_nlp['설명'].apply(lambda x: get_sentence_embedding(x, tokenizer, model).tolist()) #데이터마다 (단어 개수, 768) 차원 벡터 생성 -> 1차원으로\n"
     ]
    }
   ],
   "source": [
    "#설명 벡터화\n",
    "df_nlp['설명_벡터'] = df_nlp['설명'].apply(lambda x: get_sentence_embedding(x, tokenizer, model).tolist()) #데이터마다 (1, 768) 차원 벡터 생성"
   ]
  },
  {
   "cell_type": "code",
   "execution_count": null,
   "metadata": {},
   "outputs": [],
   "source": [
    "# type(df_nlp['꽃말_벡터'][1])\n",
    "# pd.DataFrame(df_nlp['꽃말_벡터'][1])"
   ]
  },
  {
   "cell_type": "code",
   "execution_count": 927,
   "metadata": {},
   "outputs": [
    {
     "name": "stderr",
     "output_type": "stream",
     "text": [
      "C:\\Users\\pc\\AppData\\Local\\Temp\\ipykernel_8840\\2934671132.py:7: SettingWithCopyWarning: \n",
      "A value is trying to be set on a copy of a slice from a DataFrame.\n",
      "Try using .loc[row_indexer,col_indexer] = value instead\n",
      "\n",
      "See the caveats in the documentation: https://pandas.pydata.org/pandas-docs/stable/user_guide/indexing.html#returning-a-view-versus-a-copy\n",
      "  df_nlp['원핫인코딩'] = encoded_df.apply(lambda row: list(row), axis=1)\n",
      "C:\\Users\\pc\\AppData\\Local\\Temp\\ipykernel_8840\\2934671132.py:8: SettingWithCopyWarning: \n",
      "A value is trying to be set on a copy of a slice from a DataFrame.\n",
      "Try using .loc[row_indexer,col_indexer] = value instead\n",
      "\n",
      "See the caveats in the documentation: https://pandas.pydata.org/pandas-docs/stable/user_guide/indexing.html#returning-a-view-versus-a-copy\n",
      "  df_nlp['원핫인코딩'] = df_nlp['원핫인코딩'].apply(lambda x: np.array(x).reshape(1, 16)) #(16,1)을 (1,16)차원으로 변경\n"
     ]
    }
   ],
   "source": [
    "#월과 계절 원핫인코딩\n",
    "encoder = OneHotEncoder()\n",
    "encoded_data = encoder.fit_transform(df[['월', '계절']]).toarray()  # '월'과 '계절' 컬럼을 원핫인코딩\n",
    "encoded_df = pd.DataFrame(encoded_data, columns=encoder.get_feature_names_out(['월', '계절'])) # 원핫인코딩된 결과를 새로운 데이터프레임으로 변환\n",
    "\n",
    "# 원핫인코딩 결과를 '원핫인코딩' 컬럼으로 추가\n",
    "df_nlp['원핫인코딩'] = encoded_df.apply(lambda row: list(row), axis=1)\n",
    "df_nlp['원핫인코딩'] = df_nlp['원핫인코딩'].apply(lambda x: np.array(x).reshape(1, 16)) #(16,1)을 (1,16)차원으로 변경"
   ]
  },
  {
   "cell_type": "code",
   "execution_count": 932,
   "metadata": {},
   "outputs": [
    {
     "name": "stderr",
     "output_type": "stream",
     "text": [
      "C:\\Users\\pc\\AppData\\Local\\Temp\\ipykernel_8840\\2624279429.py:10: SettingWithCopyWarning: \n",
      "A value is trying to be set on a copy of a slice from a DataFrame.\n",
      "Try using .loc[row_indexer,col_indexer] = value instead\n",
      "\n",
      "See the caveats in the documentation: https://pandas.pydata.org/pandas-docs/stable/user_guide/indexing.html#returning-a-view-versus-a-copy\n",
      "  df_nlp['최종_벡터'] = df_nlp.apply(create_combined_vector, axis=1)\n"
     ]
    }
   ],
   "source": [
    "# 결합 벡터 생성 (설명 벡터, 꽃말 벡터 결합)\n",
    "def create_combined_vector(row):\n",
    "    설명_벡터 = row['설명_벡터'] #(1,768)\n",
    "    원핫인코딩 = row['원핫인코딩'] #(1,16)\n",
    "\n",
    "    combined_array = np.concatenate((설명_벡터, 원핫인코딩), axis=1) #(1,784) \n",
    "\n",
    "    return combined_array\n",
    "\n",
    "df_nlp['최종_벡터'] = df_nlp.apply(create_combined_vector, axis=1)"
   ]
  },
  {
   "cell_type": "code",
   "execution_count": 871,
   "metadata": {},
   "outputs": [],
   "source": [
    "# with open(stopword_file, 'r', encoding='utf-8') as file:\n",
    "#     stopwords = file.read() # 파일 내용 읽기\n",
    "# print(stopwords)\n",
    "\n",
    "# #트큰화 (불용어 제외) - 빈도수 파악 위해\n",
    "# okt = Okt()\n",
    "\n",
    "# word_list=[]\n",
    "# for i in df_nlp['설명']:\n",
    "#     word_tokens = okt.morphs(i) #형태소 분석\n",
    "\n",
    "#     for j in word_tokens:\n",
    "#         if j not in stopwords: \n",
    "#             word_list.append(j)\n",
    "            \n",
    "# word_list\n",
    "\n",
    "# #빈도수 확인\n",
    "# frequent = Counter(word_list).most_common()\n",
    "# frequent[:20]\n",
    "\n",
    "# #불용어 재구축\n",
    "# stopwords_re = \"꽃 입니다 줄기 있는 이나 품종 처럼 식물 많이 에서는\"\n",
    "# stopwords_re  = stopwords_re +' ' + stopwords\n",
    "# stopwords_re = stopwords_re.replace('의지하여', '')\n",
    "# stopwords_re"
   ]
  },
  {
   "cell_type": "code",
   "execution_count": 872,
   "metadata": {},
   "outputs": [],
   "source": [
    "# #불용어 제거 함수화\n",
    "# def remove_stopword(text):\n",
    "#     word_tokens = okt.morphs(text) #토큰화\n",
    "    \n",
    "#     a= []\n",
    "#     for i in word_tokens:\n",
    "#         if i not in stopwords_re: #불용어가 아닌 단어만 넣기\n",
    "#             a.append(i)\n",
    "\n",
    "#     return a\n",
    "\n",
    "# #불용어가 제거된 칼럼 생성\n",
    "# df_nlp['설명_불용어제거'] = df_nlp['설명'].apply(remove_stopword)\n",
    "# df_nlp.head(5)\n",
    "\n",
    "# #형용사, 명사 등만 남기고 불용어 제거\n",
    "# def extract_nouns_adjectives(text):\n",
    "#     pos_tagged = okt.pos(text) #형태소 추출\n",
    "\n",
    "#     nouns = [word for word, pos in pos_tagged if pos == 'Noun']\n",
    "#     adjectives = [word for word, pos in pos_tagged if pos == 'Adjective']\n",
    "#     a = nouns + adjectives\n",
    "   \n",
    "#     a_re=[]\n",
    "#     for i in a:\n",
    "#         if i not in stopwords_re: \n",
    "#             a_re.append(i)\n",
    "#     return a_re\n",
    "\n",
    "# #불용어 제거 및 형용사, 명사 형태소만 남긴 칼럼 생성\n",
    "# df_nlp['설명_명사,형용사'] = df_nlp['설명'].apply(extract_nouns_adjectives)\n",
    "# df_nlp[['설명', '설명_불용어제거', '설명_명사,형용사']].head(5)\n",
    "\n",
    "# #트큰화 (불용어 제외, 명사와 형용사만 추출) - 빈도수 파악 위해\n",
    "# word_list= []\n",
    "# for i in df_nlp['설명_명사,형용사']:\n",
    "#     for j in i:\n",
    "#         if j not in stopwords_re: #불용어가 아닌 것만 넣기\n",
    "#             word_list.append(j)\n",
    "\n",
    "# #빈도수 확인\n",
    "# frequent = Counter(word_list).most_common()\n",
    "# frequent[:20]\n",
    "\n",
    "# #불용어 재구축\n",
    "# stopwords_re2 = \"좋은 이름 연출 대표 사용 있습니다\"\n",
    "# stopwords_re  = stopwords_re2 +' ' + stopwords_re\n",
    "# stopwords_re\n",
    "\n",
    "# #불용어 제거 및 형용사, 명사 형태소만 남긴 칼럼 재생성 (위 불용어 적용하여)\n",
    "# df_nlp['설명_명사,형용사'] = df_nlp['설명'].apply(extract_nouns_adjectives)\n",
    "# df_nlp[['설명', '설명_불용어제거', '설명_명사,형용사']].head(5)\n",
    "\n",
    "# #리스트 내에 중복되는 부분 제거\n",
    "# from collections import OrderedDict\n",
    "\n",
    "# df_nlp['설명_명사,형용사'] = df_nlp['설명_명사,형용사'].apply(lambda x: list(OrderedDict.fromkeys(x))) #순서 섞이지 않도록 고정\n",
    "# df_nlp[['설명', '설명_불용어제거', '설명_명사,형용사']].head(5)"
   ]
  },
  {
   "cell_type": "markdown",
   "metadata": {},
   "source": [
    "#### 4. 사용자 입력 및 유사도 계산 \n",
    "- 사용자 입력 벡터화\n",
    "- 유사도 계산"
   ]
  },
  {
   "cell_type": "markdown",
   "metadata": {},
   "source": [
    " > 사용자 입력에서 월이나 계절 내용이 없으면 사용자가 입력한 날짜를 추출해서 가져오기"
   ]
  },
  {
   "cell_type": "code",
   "execution_count": 934,
   "metadata": {},
   "outputs": [],
   "source": [
    "#이미지 칼럼 생성\n",
    "df_nlp['이미지'] = df['이미지']"
   ]
  },
  {
   "cell_type": "code",
   "execution_count": 935,
   "metadata": {},
   "outputs": [
    {
     "data": {
      "text/html": [
       "<div>\n",
       "<style scoped>\n",
       "    .dataframe tbody tr th:only-of-type {\n",
       "        vertical-align: middle;\n",
       "    }\n",
       "\n",
       "    .dataframe tbody tr th {\n",
       "        vertical-align: top;\n",
       "    }\n",
       "\n",
       "    .dataframe thead th {\n",
       "        text-align: right;\n",
       "    }\n",
       "</style>\n",
       "<table border=\"1\" class=\"dataframe\">\n",
       "  <thead>\n",
       "    <tr style=\"text-align: right;\">\n",
       "      <th></th>\n",
       "      <th>꽃</th>\n",
       "      <th>설명</th>\n",
       "      <th>설명_벡터</th>\n",
       "      <th>원핫인코딩</th>\n",
       "      <th>최종_벡터</th>\n",
       "      <th>이미지</th>\n",
       "    </tr>\n",
       "  </thead>\n",
       "  <tbody>\n",
       "    <tr>\n",
       "      <th>0</th>\n",
       "      <td>검은포플라</td>\n",
       "      <td>용기 당신은 용기가 있어 주위 사람들도 당신을 의지하고 있습니다 그렇다고 해서 자기...</td>\n",
       "      <td>[[-0.08729376643896103, 0.050417497754096985, ...</td>\n",
       "      <td>[[1.0, 0.0, 0.0, 0.0, 0.0, 0.0, 0.0, 0.0, 0.0,...</td>\n",
       "      <td>[[-0.08729376643896103, 0.050417497754096985, ...</td>\n",
       "      <td>https://mblogthumb-phinf.pstatic.net/MjAyMjAxM...</td>\n",
       "    </tr>\n",
       "    <tr>\n",
       "      <th>1</th>\n",
       "      <td>군자란</td>\n",
       "      <td>고귀 군자란은 이름 끝에 란이라고 되어있어서 난 종류일거라 생각하기도 하지만 난과는...</td>\n",
       "      <td>[[0.12972727417945862, -0.13232304155826569, -...</td>\n",
       "      <td>[[1.0, 0.0, 0.0, 0.0, 0.0, 0.0, 0.0, 0.0, 0.0,...</td>\n",
       "      <td>[[0.12972727417945862, -0.13232304155826569, -...</td>\n",
       "      <td>https://www.nihhs.go.kr/user/AttachFiles/FLOWF...</td>\n",
       "    </tr>\n",
       "    <tr>\n",
       "      <th>2</th>\n",
       "      <td>나도풍란</td>\n",
       "      <td>인내 남부지역의 바위나 나무에 붙어사는 난이다 보통 풍란 하면 소엽풍란을 말한다 나...</td>\n",
       "      <td>[[0.0757506787776947, -0.0020380616188049316, ...</td>\n",
       "      <td>[[1.0, 0.0, 0.0, 0.0, 0.0, 0.0, 0.0, 0.0, 0.0,...</td>\n",
       "      <td>[[0.0757506787776947, -0.0020380616188049316, ...</td>\n",
       "      <td>https://www.nihhs.go.kr/user/AttachFiles/FLOWF...</td>\n",
       "    </tr>\n",
       "    <tr>\n",
       "      <th>3</th>\n",
       "      <td>노랑 히야신</td>\n",
       "      <td>승부 당신은 언제나 엄격하지 않으면 못견뎌 하는 성격입니다 엄격히 하는 것도 시간과...</td>\n",
       "      <td>[[0.186703622341156, -0.13133515417575836, -0....</td>\n",
       "      <td>[[1.0, 0.0, 0.0, 0.0, 0.0, 0.0, 0.0, 0.0, 0.0,...</td>\n",
       "      <td>[[0.186703622341156, -0.13133515417575836, -0....</td>\n",
       "      <td>https://img1.daumcdn.net/thumb/R720x0.q80/?sco...</td>\n",
       "    </tr>\n",
       "    <tr>\n",
       "      <th>4</th>\n",
       "      <td>노랑수선화</td>\n",
       "      <td>사랑에 답하여 당신은 추진력이 강한 운명을 타고 났습니다 따라서 아무리 불가능해 보...</td>\n",
       "      <td>[[0.12058863043785095, 0.015314951539039612, -...</td>\n",
       "      <td>[[1.0, 0.0, 0.0, 0.0, 0.0, 0.0, 0.0, 0.0, 0.0,...</td>\n",
       "      <td>[[0.12058863043785095, 0.015314951539039612, -...</td>\n",
       "      <td>https://blog.kakaocdn.net/dn/v1i65/btqRoRsgqCT...</td>\n",
       "    </tr>\n",
       "  </tbody>\n",
       "</table>\n",
       "</div>"
      ],
      "text/plain": [
       "        꽃                                                 설명  \\\n",
       "0   검은포플라  용기 당신은 용기가 있어 주위 사람들도 당신을 의지하고 있습니다 그렇다고 해서 자기...   \n",
       "1     군자란  고귀 군자란은 이름 끝에 란이라고 되어있어서 난 종류일거라 생각하기도 하지만 난과는...   \n",
       "2    나도풍란  인내 남부지역의 바위나 나무에 붙어사는 난이다 보통 풍란 하면 소엽풍란을 말한다 나...   \n",
       "3  노랑 히야신  승부 당신은 언제나 엄격하지 않으면 못견뎌 하는 성격입니다 엄격히 하는 것도 시간과...   \n",
       "4   노랑수선화  사랑에 답하여 당신은 추진력이 강한 운명을 타고 났습니다 따라서 아무리 불가능해 보...   \n",
       "\n",
       "                                               설명_벡터  \\\n",
       "0  [[-0.08729376643896103, 0.050417497754096985, ...   \n",
       "1  [[0.12972727417945862, -0.13232304155826569, -...   \n",
       "2  [[0.0757506787776947, -0.0020380616188049316, ...   \n",
       "3  [[0.186703622341156, -0.13133515417575836, -0....   \n",
       "4  [[0.12058863043785095, 0.015314951539039612, -...   \n",
       "\n",
       "                                               원핫인코딩  \\\n",
       "0  [[1.0, 0.0, 0.0, 0.0, 0.0, 0.0, 0.0, 0.0, 0.0,...   \n",
       "1  [[1.0, 0.0, 0.0, 0.0, 0.0, 0.0, 0.0, 0.0, 0.0,...   \n",
       "2  [[1.0, 0.0, 0.0, 0.0, 0.0, 0.0, 0.0, 0.0, 0.0,...   \n",
       "3  [[1.0, 0.0, 0.0, 0.0, 0.0, 0.0, 0.0, 0.0, 0.0,...   \n",
       "4  [[1.0, 0.0, 0.0, 0.0, 0.0, 0.0, 0.0, 0.0, 0.0,...   \n",
       "\n",
       "                                               최종_벡터  \\\n",
       "0  [[-0.08729376643896103, 0.050417497754096985, ...   \n",
       "1  [[0.12972727417945862, -0.13232304155826569, -...   \n",
       "2  [[0.0757506787776947, -0.0020380616188049316, ...   \n",
       "3  [[0.186703622341156, -0.13133515417575836, -0....   \n",
       "4  [[0.12058863043785095, 0.015314951539039612, -...   \n",
       "\n",
       "                                                 이미지  \n",
       "0  https://mblogthumb-phinf.pstatic.net/MjAyMjAxM...  \n",
       "1  https://www.nihhs.go.kr/user/AttachFiles/FLOWF...  \n",
       "2  https://www.nihhs.go.kr/user/AttachFiles/FLOWF...  \n",
       "3  https://img1.daumcdn.net/thumb/R720x0.q80/?sco...  \n",
       "4  https://blog.kakaocdn.net/dn/v1i65/btqRoRsgqCT...  "
      ]
     },
     "execution_count": 935,
     "metadata": {},
     "output_type": "execute_result"
    }
   ],
   "source": [
    "df_nlp.head(5)"
   ]
  },
  {
   "cell_type": "code",
   "execution_count": 936,
   "metadata": {},
   "outputs": [],
   "source": [
    "# 사용자 입력 텍스트 분석 함수(월, 계절)\n",
    "def extract_month_season(text):\n",
    "    months = {\n",
    "        '1월': 1, '2월': 2, '3월': 3, '4월': 4, '5월': 5, '6월': 6,\n",
    "        '7월': 7, '8월': 8, '9월': 9, '10월': 10, '11월': 11, '12월': 12\n",
    "    }\n",
    "    seasons = {'봄': '봄', '여름': '여름', '가을': '가을', '겨울': '겨울'}\n",
    "    \n",
    "    month = None\n",
    "    season = None\n",
    "    \n",
    "    for key, value in months.items():\n",
    "        if key in text:\n",
    "            month = value\n",
    "            break\n",
    "    \n",
    "    for key in seasons.keys():\n",
    "        if key in text:\n",
    "            season = key\n",
    "            break\n",
    "    \n",
    "    return month, season"
   ]
  },
  {
   "cell_type": "code",
   "execution_count": 955,
   "metadata": {},
   "outputs": [],
   "source": [
    "#사용자 입력을 최종 벡터화 \n",
    "def get_user_input_vector(user_input):\n",
    "    input = remove_special_characters(user_input) #특수문자 제거\n",
    "    \n",
    "    # 토큰화 및 벡터화\n",
    "    input_embeddings = get_sentence_embedding(input, tokenizer, model) #(1,768)\n",
    "    month, season = extract_month_season(user_input)\n",
    "\n",
    "    # 원핫 벡터 생성\n",
    "    user_onehot_vector = np.zeros(len(encoder.get_feature_names_out(['월', '계절'])))\n",
    "    if month is not None:\n",
    "        month_idx = encoder.get_feature_names_out(['월', '계절']).tolist().index(f'월_{month}')\n",
    "        user_onehot_vector[month_idx] = 1\n",
    "    if season is not None:\n",
    "        season_idx = encoder.get_feature_names_out(['월', '계절']).tolist().index(f'계절_{season}')\n",
    "        user_onehot_vector[season_idx] = 1\n",
    "    user_onehot_vector = user_onehot_vector.reshape(1, 16) #(1,16)\n",
    "\n",
    "    #벡터 결합\n",
    "    user_vector = np.concatenate((input_embeddings, user_onehot_vector), axis=1) #(1,784)\n",
    "    return user_vector"
   ]
  },
  {
   "cell_type": "code",
   "execution_count": 1016,
   "metadata": {},
   "outputs": [],
   "source": [
    "# 추천 시스템 함수 (코사인 유사도 기반)\n",
    "from sklearn.metrics.pairwise import cosine_similarity\n",
    "\n",
    "def recommend_flower(user_input, tokenizer, model):\n",
    "    user_vector = get_user_input_vector(user_input) #사용자 입력을 최종 벡터화\n",
    "\n",
    "    #코사인 유사도 산출\n",
    "    df_nlp['유사도'] = df_nlp['최종_벡터'].apply(lambda x: cosine_similarity(user_vector, x)[0][0])\n",
    "    df_nlp['유사도'] = df_nlp['유사도'].astype(float) #숫자형으로 변환\n",
    "\n",
    "    # 유사도를 기준으로 상위 3개의 꽃을 선택하고 중복된 꽃을 제거\n",
    "    top3 = df_nlp.nlargest(3, '유사도').drop_duplicates(subset='꽃')\n",
    "\n",
    "    # 만약 중복 제거 후 3개의 꽃이 되지 않는 경우, 다시 nlargest로 채우기\n",
    "    if top3.shape[0] < 3:\n",
    "        additional_top = df_nlp.nlargest(20, '유사도')  # 상위 10개 정도를 선택\n",
    "        additional_top = additional_top[~additional_top['꽃'].isin(top3['꽃'])]\n",
    "        top3 = pd.concat([top3, additional_top]).nlargest(3, '유사도').drop_duplicates(subset='꽃')\n",
    "\n",
    "    return top3[['꽃', '유사도', '이미지']]"
   ]
  },
  {
   "cell_type": "code",
   "execution_count": 1011,
   "metadata": {},
   "outputs": [
    {
     "data": {
      "text/html": [
       "<div>\n",
       "<style scoped>\n",
       "    .dataframe tbody tr th:only-of-type {\n",
       "        vertical-align: middle;\n",
       "    }\n",
       "\n",
       "    .dataframe tbody tr th {\n",
       "        vertical-align: top;\n",
       "    }\n",
       "\n",
       "    .dataframe thead th {\n",
       "        text-align: right;\n",
       "    }\n",
       "</style>\n",
       "<table border=\"1\" class=\"dataframe\">\n",
       "  <thead>\n",
       "    <tr style=\"text-align: right;\">\n",
       "      <th></th>\n",
       "      <th>꽃</th>\n",
       "      <th>유사도</th>\n",
       "      <th>이미지</th>\n",
       "    </tr>\n",
       "  </thead>\n",
       "  <tbody>\n",
       "    <tr>\n",
       "      <th>498</th>\n",
       "      <td>카네이션</td>\n",
       "      <td>0.896578</td>\n",
       "      <td>https://image.kmib.co.kr/online_image/2024/050...</td>\n",
       "    </tr>\n",
       "    <tr>\n",
       "      <th>496</th>\n",
       "      <td>초롱꽃</td>\n",
       "      <td>0.894089</td>\n",
       "      <td>https://www.nihhs.go.kr/user/AttachFiles/FLOWF...</td>\n",
       "    </tr>\n",
       "    <tr>\n",
       "      <th>457</th>\n",
       "      <td>에그타르트 장미</td>\n",
       "      <td>0.893676</td>\n",
       "      <td>https://file.honestflower.kr/media/images/ingr...</td>\n",
       "    </tr>\n",
       "  </tbody>\n",
       "</table>\n",
       "</div>"
      ],
      "text/plain": [
       "            꽃       유사도                                                이미지\n",
       "498      카네이션  0.896578  https://image.kmib.co.kr/online_image/2024/050...\n",
       "496       초롱꽃  0.894089  https://www.nihhs.go.kr/user/AttachFiles/FLOWF...\n",
       "457  에그타르트 장미  0.893676  https://file.honestflower.kr/media/images/ingr..."
      ]
     },
     "execution_count": 1011,
     "metadata": {},
     "output_type": "execute_result"
    }
   ],
   "source": [
    "#성능 테스트 해보기\n",
    "\n",
    "#\"여자친구 생일이 6월 10일이야\"\n",
    "#\"친구가 어제 드디어 취업을 해서 꽃을 선물하려해\"\n",
    "#\"어제 여자친구랑 싸워서 화해를 하려해\"\n",
    "#\"부모님 생신이여서 꽃을 선물하고 싶은데 화려한 꽃으로 축하하고 싶어\"\n",
    "\n",
    "user_input = \"여자친구 생일이 6월 10일이야\"\n",
    "\n",
    "# 꽃 추천\n",
    "recommend_flower(user_input, tokenizer, model)"
   ]
  },
  {
   "cell_type": "markdown",
   "metadata": {},
   "source": [
    "초롱꽃, 에그타르트 장미는 6월 꽃임 (카네이션은 어떤 부분에서 나온지 모르겠음)"
   ]
  },
  {
   "cell_type": "code",
   "execution_count": 1012,
   "metadata": {},
   "outputs": [
    {
     "data": {
      "text/html": [
       "<div>\n",
       "<style scoped>\n",
       "    .dataframe tbody tr th:only-of-type {\n",
       "        vertical-align: middle;\n",
       "    }\n",
       "\n",
       "    .dataframe tbody tr th {\n",
       "        vertical-align: top;\n",
       "    }\n",
       "\n",
       "    .dataframe thead th {\n",
       "        text-align: right;\n",
       "    }\n",
       "</style>\n",
       "<table border=\"1\" class=\"dataframe\">\n",
       "  <thead>\n",
       "    <tr style=\"text-align: right;\">\n",
       "      <th></th>\n",
       "      <th>꽃</th>\n",
       "      <th>유사도</th>\n",
       "      <th>이미지</th>\n",
       "    </tr>\n",
       "  </thead>\n",
       "  <tbody>\n",
       "    <tr>\n",
       "      <th>180</th>\n",
       "      <td>라일락</td>\n",
       "      <td>0.959519</td>\n",
       "      <td>https://www.nihhs.go.kr/user/AttachFiles/FLOWF...</td>\n",
       "    </tr>\n",
       "    <tr>\n",
       "      <th>639</th>\n",
       "      <td>로사캠피온</td>\n",
       "      <td>0.959185</td>\n",
       "      <td>https://mblogthumb-phinf.pstatic.net/MjAxNzA4M...</td>\n",
       "    </tr>\n",
       "    <tr>\n",
       "      <th>651</th>\n",
       "      <td>스타티스</td>\n",
       "      <td>0.958821</td>\n",
       "      <td>https://s3.ap-northeast-2.amazonaws.com/om-pub...</td>\n",
       "    </tr>\n",
       "  </tbody>\n",
       "</table>\n",
       "</div>"
      ],
      "text/plain": [
       "         꽃       유사도                                                이미지\n",
       "180    라일락  0.959519  https://www.nihhs.go.kr/user/AttachFiles/FLOWF...\n",
       "639  로사캠피온  0.959185  https://mblogthumb-phinf.pstatic.net/MjAxNzA4M...\n",
       "651   스타티스  0.958821  https://s3.ap-northeast-2.amazonaws.com/om-pub..."
      ]
     },
     "execution_count": 1012,
     "metadata": {},
     "output_type": "execute_result"
    }
   ],
   "source": [
    "user_input = \"친구가 어제 드디어 취업을 해서 꽃을 선물하려해\"\n",
    "\n",
    "# 꽃 추천\n",
    "recommend_flower(user_input, tokenizer, model)"
   ]
  },
  {
   "cell_type": "markdown",
   "metadata": {},
   "source": [
    "취업, 선물, 친구라는 단어가 존재하지 않아서 아마 유사한 의미로 대체된 듯"
   ]
  },
  {
   "cell_type": "code",
   "execution_count": 1013,
   "metadata": {},
   "outputs": [
    {
     "data": {
      "text/html": [
       "<div>\n",
       "<style scoped>\n",
       "    .dataframe tbody tr th:only-of-type {\n",
       "        vertical-align: middle;\n",
       "    }\n",
       "\n",
       "    .dataframe tbody tr th {\n",
       "        vertical-align: top;\n",
       "    }\n",
       "\n",
       "    .dataframe thead th {\n",
       "        text-align: right;\n",
       "    }\n",
       "</style>\n",
       "<table border=\"1\" class=\"dataframe\">\n",
       "  <thead>\n",
       "    <tr style=\"text-align: right;\">\n",
       "      <th></th>\n",
       "      <th>꽃</th>\n",
       "      <th>유사도</th>\n",
       "      <th>이미지</th>\n",
       "    </tr>\n",
       "  </thead>\n",
       "  <tbody>\n",
       "    <tr>\n",
       "      <th>794</th>\n",
       "      <td>서양모과</td>\n",
       "      <td>0.949536</td>\n",
       "      <td>https://img1.daumcdn.net/thumb/R800x0/?scode=m...</td>\n",
       "    </tr>\n",
       "    <tr>\n",
       "      <th>89</th>\n",
       "      <td>칼미아</td>\n",
       "      <td>0.948300</td>\n",
       "      <td>https://encrypted-tbn0.gstatic.com/images?q=tb...</td>\n",
       "    </tr>\n",
       "    <tr>\n",
       "      <th>664</th>\n",
       "      <td>진달래</td>\n",
       "      <td>0.947336</td>\n",
       "      <td>https://pds.joongang.co.kr/news/component/html...</td>\n",
       "    </tr>\n",
       "  </tbody>\n",
       "</table>\n",
       "</div>"
      ],
      "text/plain": [
       "        꽃       유사도                                                이미지\n",
       "794  서양모과  0.949536  https://img1.daumcdn.net/thumb/R800x0/?scode=m...\n",
       "89    칼미아  0.948300  https://encrypted-tbn0.gstatic.com/images?q=tb...\n",
       "664   진달래  0.947336  https://pds.joongang.co.kr/news/component/html..."
      ]
     },
     "execution_count": 1013,
     "metadata": {},
     "output_type": "execute_result"
    }
   ],
   "source": [
    "user_input = \"어제 여자친구랑 싸워서 화해를 하려해\"\n",
    "\n",
    "# 꽃 추천\n",
    "recommend_flower(user_input, tokenizer, model)"
   ]
  },
  {
   "cell_type": "markdown",
   "metadata": {},
   "source": [
    "칼미아는 용기라는 의미가 있음"
   ]
  },
  {
   "cell_type": "code",
   "execution_count": 1014,
   "metadata": {},
   "outputs": [
    {
     "data": {
      "text/html": [
       "<div>\n",
       "<style scoped>\n",
       "    .dataframe tbody tr th:only-of-type {\n",
       "        vertical-align: middle;\n",
       "    }\n",
       "\n",
       "    .dataframe tbody tr th {\n",
       "        vertical-align: top;\n",
       "    }\n",
       "\n",
       "    .dataframe thead th {\n",
       "        text-align: right;\n",
       "    }\n",
       "</style>\n",
       "<table border=\"1\" class=\"dataframe\">\n",
       "  <thead>\n",
       "    <tr style=\"text-align: right;\">\n",
       "      <th></th>\n",
       "      <th>꽃</th>\n",
       "      <th>유사도</th>\n",
       "      <th>이미지</th>\n",
       "    </tr>\n",
       "  </thead>\n",
       "  <tbody>\n",
       "    <tr>\n",
       "      <th>635</th>\n",
       "      <td>능소화</td>\n",
       "      <td>0.960701</td>\n",
       "      <td>https://encrypted-tbn1.gstatic.com/images?q=tb...</td>\n",
       "    </tr>\n",
       "    <tr>\n",
       "      <th>664</th>\n",
       "      <td>진달래</td>\n",
       "      <td>0.959587</td>\n",
       "      <td>https://pds.joongang.co.kr/news/component/html...</td>\n",
       "    </tr>\n",
       "    <tr>\n",
       "      <th>89</th>\n",
       "      <td>칼미아</td>\n",
       "      <td>0.959559</td>\n",
       "      <td>https://encrypted-tbn0.gstatic.com/images?q=tb...</td>\n",
       "    </tr>\n",
       "  </tbody>\n",
       "</table>\n",
       "</div>"
      ],
      "text/plain": [
       "       꽃       유사도                                                이미지\n",
       "635  능소화  0.960701  https://encrypted-tbn1.gstatic.com/images?q=tb...\n",
       "664  진달래  0.959587  https://pds.joongang.co.kr/news/component/html...\n",
       "89   칼미아  0.959559  https://encrypted-tbn0.gstatic.com/images?q=tb..."
      ]
     },
     "execution_count": 1014,
     "metadata": {},
     "output_type": "execute_result"
    }
   ],
   "source": [
    "user_input = \"부모님 생신이여서 꽃을 선물하고 싶은데 화려한 꽃으로 축하하고 싶어\"\n",
    "\n",
    "# 꽃 추천\n",
    "recommend_flower(user_input, tokenizer, model)"
   ]
  },
  {
   "cell_type": "markdown",
   "metadata": {},
   "source": [
    "능소화(명예), 진달래(사랑의 기쁨), 칼미아(용기) -> 전혀 안맞는데?"
   ]
  },
  {
   "cell_type": "code",
   "execution_count": 1018,
   "metadata": {},
   "outputs": [
    {
     "data": {
      "text/html": [
       "<div>\n",
       "<style scoped>\n",
       "    .dataframe tbody tr th:only-of-type {\n",
       "        vertical-align: middle;\n",
       "    }\n",
       "\n",
       "    .dataframe tbody tr th {\n",
       "        vertical-align: top;\n",
       "    }\n",
       "\n",
       "    .dataframe thead th {\n",
       "        text-align: right;\n",
       "    }\n",
       "</style>\n",
       "<table border=\"1\" class=\"dataframe\">\n",
       "  <thead>\n",
       "    <tr style=\"text-align: right;\">\n",
       "      <th></th>\n",
       "      <th>꽃</th>\n",
       "      <th>유사도</th>\n",
       "      <th>이미지</th>\n",
       "    </tr>\n",
       "  </thead>\n",
       "  <tbody>\n",
       "    <tr>\n",
       "      <th>802</th>\n",
       "      <td>초롱꽃</td>\n",
       "      <td>0.883691</td>\n",
       "      <td>https://t2.daumcdn.net/thumb/R720x0.fjpg/?fnam...</td>\n",
       "    </tr>\n",
       "    <tr>\n",
       "      <th>131</th>\n",
       "      <td>수선화</td>\n",
       "      <td>0.879561</td>\n",
       "      <td>https://i.namu.wiki/i/fk6EUlXQiNYbuUekI4XjT9v9...</td>\n",
       "    </tr>\n",
       "    <tr>\n",
       "      <th>248</th>\n",
       "      <td>덴파레</td>\n",
       "      <td>0.878278</td>\n",
       "      <td>https://file.honestflower.kr/media/images/ingr...</td>\n",
       "    </tr>\n",
       "  </tbody>\n",
       "</table>\n",
       "</div>"
      ],
      "text/plain": [
       "       꽃       유사도                                                이미지\n",
       "802  초롱꽃  0.883691  https://t2.daumcdn.net/thumb/R720x0.fjpg/?fnam...\n",
       "131  수선화  0.879561  https://i.namu.wiki/i/fk6EUlXQiNYbuUekI4XjT9v9...\n",
       "248  덴파레  0.878278  https://file.honestflower.kr/media/images/ingr..."
      ]
     },
     "execution_count": 1018,
     "metadata": {},
     "output_type": "execute_result"
    }
   ],
   "source": [
    "user_input = \"어버이날\"\n",
    "\n",
    "# 꽃 추천\n",
    "recommend_flower(user_input, tokenizer, model)"
   ]
  },
  {
   "cell_type": "code",
   "execution_count": 1030,
   "metadata": {},
   "outputs": [
    {
     "data": {
      "text/html": [
       "<div>\n",
       "<style scoped>\n",
       "    .dataframe tbody tr th:only-of-type {\n",
       "        vertical-align: middle;\n",
       "    }\n",
       "\n",
       "    .dataframe tbody tr th {\n",
       "        vertical-align: top;\n",
       "    }\n",
       "\n",
       "    .dataframe thead th {\n",
       "        text-align: right;\n",
       "    }\n",
       "</style>\n",
       "<table border=\"1\" class=\"dataframe\">\n",
       "  <thead>\n",
       "    <tr style=\"text-align: right;\">\n",
       "      <th></th>\n",
       "      <th>꽃</th>\n",
       "      <th>유사도</th>\n",
       "      <th>이미지</th>\n",
       "    </tr>\n",
       "  </thead>\n",
       "  <tbody>\n",
       "    <tr>\n",
       "      <th>834</th>\n",
       "      <td>온시디움</td>\n",
       "      <td>0.950974</td>\n",
       "      <td>https://file.honestflower.kr/media/images/ingr...</td>\n",
       "    </tr>\n",
       "    <tr>\n",
       "      <th>587</th>\n",
       "      <td>세일러문 해바라기</td>\n",
       "      <td>0.945705</td>\n",
       "      <td>https://file.honestflower.kr/media/images/ingr...</td>\n",
       "    </tr>\n",
       "    <tr>\n",
       "      <th>843</th>\n",
       "      <td>호접란</td>\n",
       "      <td>0.944824</td>\n",
       "      <td>https://file.honestflower.kr/media/images/ingr...</td>\n",
       "    </tr>\n",
       "  </tbody>\n",
       "</table>\n",
       "</div>"
      ],
      "text/plain": [
       "             꽃       유사도                                                이미지\n",
       "834       온시디움  0.950974  https://file.honestflower.kr/media/images/ingr...\n",
       "587  세일러문 해바라기  0.945705  https://file.honestflower.kr/media/images/ingr...\n",
       "843        호접란  0.944824  https://file.honestflower.kr/media/images/ingr..."
      ]
     },
     "execution_count": 1030,
     "metadata": {},
     "output_type": "execute_result"
    }
   ],
   "source": [
    "# 예시 사용자 입력\n",
    "user_input = \"나는 1월에 겨울에 어울리는 용기 있는 꽃을 찾고 있어\"\n",
    "\n",
    "# 꽃 추천\n",
    "recommend_flower(user_input, tokenizer, model)"
   ]
  },
  {
   "cell_type": "markdown",
   "metadata": {},
   "source": [
    "온시디움, 호접란은 모두 겨울 꽃"
   ]
  }
 ],
 "metadata": {
  "kernelspec": {
   "display_name": "base",
   "language": "python",
   "name": "python3"
  },
  "language_info": {
   "codemirror_mode": {
    "name": "ipython",
    "version": 3
   },
   "file_extension": ".py",
   "mimetype": "text/x-python",
   "name": "python",
   "nbconvert_exporter": "python",
   "pygments_lexer": "ipython3",
   "version": "3.11.4"
  }
 },
 "nbformat": 4,
 "nbformat_minor": 2
}
