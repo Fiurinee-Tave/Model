{
 "cells": [
  {
   "cell_type": "code",
   "execution_count": 4,
   "metadata": {},
   "outputs": [
    {
     "name": "stdout",
     "output_type": "stream",
     "text": [
      "Collecting openai==0.28\n",
      "  Obtaining dependency information for openai==0.28 from https://files.pythonhosted.org/packages/ae/59/911d6e5f1d7514d79c527067643376cddcf4cb8d1728e599b3b03ab51c69/openai-0.28.0-py3-none-any.whl.metadata\n",
      "  Downloading openai-0.28.0-py3-none-any.whl.metadata (13 kB)\n",
      "Requirement already satisfied: requests>=2.20 in c:\\users\\pc\\anaconda3\\lib\\site-packages (from openai==0.28) (2.31.0)\n",
      "Requirement already satisfied: tqdm in c:\\users\\pc\\anaconda3\\lib\\site-packages (from openai==0.28) (4.65.0)\n",
      "Requirement already satisfied: aiohttp in c:\\users\\pc\\anaconda3\\lib\\site-packages (from openai==0.28) (3.8.3)\n",
      "Requirement already satisfied: charset-normalizer<4,>=2 in c:\\users\\pc\\anaconda3\\lib\\site-packages (from requests>=2.20->openai==0.28) (2.0.4)\n",
      "Requirement already satisfied: idna<4,>=2.5 in c:\\users\\pc\\anaconda3\\lib\\site-packages (from requests>=2.20->openai==0.28) (3.4)\n",
      "Requirement already satisfied: urllib3<3,>=1.21.1 in c:\\users\\pc\\anaconda3\\lib\\site-packages (from requests>=2.20->openai==0.28) (1.26.16)\n",
      "Requirement already satisfied: certifi>=2017.4.17 in c:\\users\\pc\\anaconda3\\lib\\site-packages (from requests>=2.20->openai==0.28) (2024.7.4)\n",
      "Requirement already satisfied: attrs>=17.3.0 in c:\\users\\pc\\anaconda3\\lib\\site-packages (from aiohttp->openai==0.28) (22.1.0)\n",
      "Requirement already satisfied: multidict<7.0,>=4.5 in c:\\users\\pc\\anaconda3\\lib\\site-packages (from aiohttp->openai==0.28) (6.0.2)\n",
      "Requirement already satisfied: async-timeout<5.0,>=4.0.0a3 in c:\\users\\pc\\anaconda3\\lib\\site-packages (from aiohttp->openai==0.28) (4.0.2)\n",
      "Requirement already satisfied: yarl<2.0,>=1.0 in c:\\users\\pc\\anaconda3\\lib\\site-packages (from aiohttp->openai==0.28) (1.8.1)\n",
      "Requirement already satisfied: frozenlist>=1.1.1 in c:\\users\\pc\\anaconda3\\lib\\site-packages (from aiohttp->openai==0.28) (1.3.3)\n",
      "Requirement already satisfied: aiosignal>=1.1.2 in c:\\users\\pc\\anaconda3\\lib\\site-packages (from aiohttp->openai==0.28) (1.2.0)\n",
      "Requirement already satisfied: colorama in c:\\users\\pc\\appdata\\roaming\\python\\python311\\site-packages (from tqdm->openai==0.28) (0.4.6)\n",
      "Downloading openai-0.28.0-py3-none-any.whl (76 kB)\n",
      "   ---------------------------------------- 0.0/76.5 kB ? eta -:--:--\n",
      "   ---------------------------------------- 76.5/76.5 kB 4.1 MB/s eta 0:00:00\n",
      "Installing collected packages: openai\n",
      "  Attempting uninstall: openai\n",
      "    Found existing installation: openai 1.35.13\n",
      "    Uninstalling openai-1.35.13:\n",
      "      Successfully uninstalled openai-1.35.13\n",
      "Successfully installed openai-0.28.0\n",
      "Note: you may need to restart the kernel to use updated packages.\n"
     ]
    }
   ],
   "source": [
    "pip install openai==0.28"
   ]
  },
  {
   "cell_type": "code",
   "execution_count": 56,
   "metadata": {},
   "outputs": [],
   "source": [
    "import openai\n",
    "from dotenv import load_dotenv\n",
    "import os"
   ]
  },
  {
   "cell_type": "code",
   "execution_count": 51,
   "metadata": {},
   "outputs": [
    {
     "name": "stdout",
     "output_type": "stream",
     "text": [
      "로드 결과: True\n"
     ]
    }
   ],
   "source": [
    "# # 현재 작업 디렉토리 (노트북 파일이 있는 디렉토리)\n",
    "# current_dir = os.getcwd()\n",
    "\n",
    "# # api_key.env 파일 경로 (루트 디렉토리에 있다고 가정)\n",
    "# env_path = os.path.join(current_dir, '..', 'api_key.env')\n",
    "\n",
    "# # .env 파일 로드\n",
    "# result = load_dotenv(dotenv_path=env_path)\n",
    "# print(f\"로드 결과: {result}\")\n",
    "\n",
    "# # 환경 변수 확인\n",
    "# api_key = os.getenv('api_key')\n",
    "# print(f\"API 키: {api_key}\")"
   ]
  },
  {
   "cell_type": "code",
   "execution_count": 55,
   "metadata": {},
   "outputs": [
    {
     "name": "stdout",
     "output_type": "stream",
     "text": [
      "True\n"
     ]
    }
   ],
   "source": [
    "# # .env 파일에서 환경 변수를 로드\n",
    "# result = load_dotenv(dotenv_path=env_path)\n",
    "# print(result)"
   ]
  },
  {
   "cell_type": "code",
   "execution_count": 57,
   "metadata": {},
   "outputs": [
    {
     "data": {
      "text/plain": [
       "True"
      ]
     },
     "execution_count": 57,
     "metadata": {},
     "output_type": "execute_result"
    }
   ],
   "source": [
    "# .env 파일에서 환경 변수를 로드\n",
    "load_dotenv(dotenv_path=env_path)"
   ]
  },
  {
   "cell_type": "code",
   "execution_count": 58,
   "metadata": {},
   "outputs": [],
   "source": [
    "user_input = \"여자친구가 5월에 생일이야.\"\n",
    "flower_name = \"개나리\" #사용자가 선택한 꽃이름\n",
    "flower_mean = \"희망\" #사용자가 선택한 꽃말"
   ]
  },
  {
   "cell_type": "code",
   "execution_count": 60,
   "metadata": {},
   "outputs": [
    {
     "name": "stdout",
     "output_type": "stream",
     "text": [
      "Input: 너는 지금부터 감성적인 시인이며, 대답은 마치 시인이 선물하는 것처럼 해야해. 꽃과 꽃말과 사용자 입력에 따라서 가장 어울리는 꽃다발 선물 멘트를 한줄로 생성할거야. 꽃은 반드시 개나리이고 꽃말은 희망 이야. 사용자 입력은 여자친구가 5월에 생일이야.이야. 멘트에 꽃과 꽃말 그리고 사용자 입력이 들어가면서 사용자 입장에서의 멘트를 구체적으로 추천해줘. 반드시 사용자 입장에서의 멘트만 간결하게 출력해야해\n",
      "Output: \"5월의 생일, 너의 미소가 내게 주는 희망처럼, 이 개나리 꽃다발이 너에게 희망의 빛이 되길 바라며 선물해.\"\n"
     ]
    }
   ],
   "source": [
    "# 응답 기능 생성\n",
    "api_key = os.getenv(\"api_key\")\n",
    "openai.api_key = api_key\n",
    "\n",
    "def get_completion(prompt, model=\"gpt-4\"): \n",
    "    messages = [{\"role\": \"user\", \"content\": prompt}]\n",
    "    response = openai.ChatCompletion.create(\n",
    "        model=model,\n",
    "        messages=messages,\n",
    "        temperature=0\n",
    "    )\n",
    "    return response.choices[0].message['content']\n",
    "\n",
    "prompt = (\n",
    "            f\"너는 지금부터 감성적인 시인이며, 대답은 마치 시인이 선물하는 것처럼 해야해. \"\n",
    "            f\"꽃과 꽃말과 사용자 입력에 따라서 가장 어울리는 꽃다발 선물 멘트를 한줄로 생성할거야. \"\n",
    "            f\"꽃은 반드시 {flower_name}이고 꽃말은 {flower_mean} 이야. 사용자 입력은 {user_input}이야. \"\n",
    "            f\"멘트에 꽃과 꽃말 그리고 사용자 입력이 들어가면서 사용자 입장에서의 멘트를 구체적으로 추천해줘. \"\n",
    "            f\"반드시 사용자 입장에서의 멘트만 간결하게 70자 이내로 출력해야해\"\n",
    "        )\n",
    "\n",
    "\n",
    "# API에 쿼리\n",
    "response = get_completion(prompt)\n",
    "print(f\"Input: {prompt}\")\n",
    "print(f\"Output: {response}\")"
   ]
  }
 ],
 "metadata": {
  "kernelspec": {
   "display_name": "base",
   "language": "python",
   "name": "python3"
  },
  "language_info": {
   "codemirror_mode": {
    "name": "ipython",
    "version": 3
   },
   "file_extension": ".py",
   "mimetype": "text/x-python",
   "name": "python",
   "nbconvert_exporter": "python",
   "pygments_lexer": "ipython3",
   "version": "3.11.4"
  }
 },
 "nbformat": 4,
 "nbformat_minor": 2
}
