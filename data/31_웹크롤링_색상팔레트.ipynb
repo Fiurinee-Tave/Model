{
 "cells": [
  {
   "cell_type": "code",
   "execution_count": 55,
   "metadata": {},
   "outputs": [],
   "source": [
    "from selenium import webdriver as wd\n",
    "from selenium.webdriver.common.by import By\n",
    "from selenium.webdriver.common.keys import Keys\n",
    "from selenium.webdriver.chrome.options import Options\n",
    "from selenium.webdriver.common.action_chains import ActionChains\n",
    "\n",
    "import time\n",
    "import pandas as pd\n",
    "import numpy as np\n",
    "import re"
   ]
  },
  {
   "cell_type": "markdown",
   "metadata": {},
   "source": [
    "## 색상 팔레트 가져오기 (웹크롤링)"
   ]
  },
  {
   "cell_type": "code",
   "execution_count": 60,
   "metadata": {},
   "outputs": [],
   "source": [
    "#브라우저 꺼짐 방지 \n",
    "chrome_options = Options()\n",
    "chrome_options.add_experimental_option(\"detach\", True)\n",
    "\n",
    "#페이지 열기\n",
    "link=\"https://colorhunt.co/palettes/popular\"\n",
    "\n",
    "driver= wd.Chrome(options=chrome_options)\n",
    "driver.get(link)"
   ]
  },
  {
   "cell_type": "code",
   "execution_count": 61,
   "metadata": {},
   "outputs": [],
   "source": [
    "#Popular - All time\n",
    "driver.find_element(By.XPATH, '/html/body/div[4]/div[1]/div[1]/div[3]').click()"
   ]
  },
  {
   "cell_type": "code",
   "execution_count": 62,
   "metadata": {},
   "outputs": [],
   "source": [
    "#무한 스크롤\n",
    "import time\n",
    "\n",
    "SCROLL_PAUSE_TIME = 2\n",
    "\n",
    "# Get scroll height (마지막 시점의 창 높이 저장)\n",
    "last_height = driver.execute_script(\"return document.body.scrollHeight\")         \n",
    "\n",
    "i = 68\n",
    "while True:\n",
    "\n",
    "    # Scroll down to bottom (창 높이까지 스크롤)                                                    \n",
    "    driver.execute_script(\"window.scrollTo(0, document.body.scrollHeight);\")\n",
    "\n",
    "    # Wait to load page (스크롤 후 창 로딩될 때까지 기다림)\n",
    "    time.sleep(SCROLL_PAUSE_TIME)                                                \n",
    "    # driver.execute_script(\"window.scrollTo(0, document.body.scrollHeight-50);\")  \n",
    "    # time.sleep(SCROLL_PAUSE_TIME)\n",
    "\n",
    "    # Calculate new scroll height and compare with last scroll height (스크롤이 된 후에 창 높이를 새로운 높이로 저장)\n",
    "    new_height = driver.execute_script(\"return document.body.scrollHeight\")\n",
    "\n",
    "    if int(driver.find_element(By.XPATH, f'/html/body/div[4]/div[2]/div/div[{i}]/div[2]/div/div/span').text.replace(',','')) < 10000: #하트 수가 1만개 이상만 가져오기\n",
    "        break\n",
    "    elif new_height == last_height: #새로운 높이가 이전 높이와 변하지 않았으면 스크롤 종료\n",
    "        break\n",
    "    i+=40\n",
    "    \n",
    "    last_height = new_height"
   ]
  },
  {
   "cell_type": "code",
   "execution_count": 63,
   "metadata": {},
   "outputs": [],
   "source": [
    "#rgb 색상 추출 함수화\n",
    "def color_extract(data):\n",
    "    rgb_code = re.search(r'rgb\\(((\\d+,\\s*\\d+,\\s*\\d+))\\)', data).group(1)\n",
    "    rgb_code = rgb_code.split(\",\")\n",
    "    new_rgb = [int(x) for x in rgb_code]\n",
    "    return new_rgb"
   ]
  },
  {
   "cell_type": "code",
   "execution_count": 64,
   "metadata": {},
   "outputs": [],
   "source": [
    "#팔레트 추출\n",
    "palette=[]\n",
    "\n",
    "for i in range(32,370): #총 338개의 팔레트\n",
    "    palette_table={}\n",
    "\n",
    "    try:\n",
    "        #팔레트 색상 추출\n",
    "        c0 = driver.find_element(By.CSS_SELECTOR, f'body > div.wrap.main.flex > div.page > div > div:nth-child({i}) > div.palette > div.place.c0').get_attribute('style')\n",
    "        c1 = driver.find_element(By.CSS_SELECTOR, f'body > div.wrap.main.flex > div.page > div > div:nth-child({i}) > div.palette > div.place.c1').get_attribute('style')\n",
    "        c2 = driver.find_element(By.CSS_SELECTOR, f'body > div.wrap.main.flex > div.page > div > div:nth-child({i}) > div.palette > div.place.c2').get_attribute('style')\n",
    "        c3 = driver.find_element(By.CSS_SELECTOR, f'body > div.wrap.main.flex > div.page > div > div:nth-child({i}) > div.palette > div.place.c3').get_attribute('style')\n",
    "\n",
    "        palette_table['c0'] = color_extract(c0)\n",
    "        palette_table['c1'] = color_extract(c1)\n",
    "        palette_table['c2'] = color_extract(c2)\n",
    "        palette_table['c3'] = color_extract(c3)\n",
    "    \n",
    "        palette.append(palette_table)\n",
    "    \n",
    "    except Exception as e:\n",
    "        print(\"에러발생\")\n",
    "        continue"
   ]
  },
  {
   "cell_type": "code",
   "execution_count": 67,
   "metadata": {},
   "outputs": [],
   "source": [
    "palette_df = pd.DataFrame.from_dict(palette)\n",
    "palette_df.to_csv(\"C:/Users/pc/Desktop/민지/동아리/프로젝트(13기)/웹크롤링_색상팔레트.csv\")"
   ]
  }
 ],
 "metadata": {
  "kernelspec": {
   "display_name": "base",
   "language": "python",
   "name": "python3"
  },
  "language_info": {
   "codemirror_mode": {
    "name": "ipython",
    "version": 3
   },
   "file_extension": ".py",
   "mimetype": "text/x-python",
   "name": "python",
   "nbconvert_exporter": "python",
   "pygments_lexer": "ipython3",
   "version": "3.11.4"
  }
 },
 "nbformat": 4,
 "nbformat_minor": 2
}
