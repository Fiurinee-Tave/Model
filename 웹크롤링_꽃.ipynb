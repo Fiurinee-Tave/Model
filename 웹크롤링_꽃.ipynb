{
 "cells": [
  {
   "cell_type": "code",
   "execution_count": 2,
   "metadata": {},
   "outputs": [],
   "source": [
    "from selenium import webdriver as wd\n",
    "from selenium.webdriver.common.by import By\n",
    "from selenium.webdriver.common.keys import Keys\n",
    "from selenium.webdriver.chrome.options import Options\n",
    "from selenium.webdriver.common.action_chains import ActionChains\n",
    "\n",
    "import time\n",
    "import pandas as pd\n",
    "import numpy as np"
   ]
  },
  {
   "cell_type": "code",
   "execution_count": 25,
   "metadata": {},
   "outputs": [],
   "source": [
    "#브라우저 꺼짐 방지 \n",
    "chrome_options = Options()\n",
    "chrome_options.add_experimental_option(\"detach\", True)\n",
    "\n",
    "#페이지 열기\n",
    "link=\"https://honestflower.kr/flower-wiki\"\n",
    "\n",
    "driver= wd.Chrome(options=chrome_options)\n",
    "driver.get(link)"
   ]
  },
  {
   "cell_type": "code",
   "execution_count": 35,
   "metadata": {},
   "outputs": [],
   "source": [
    "#무한 스크롤\n",
    "import time\n",
    "\n",
    "SCROLL_PAUSE_TIME = 2\n",
    "\n",
    "# Get scroll height (마지막 시점의 창 높이 저장)\n",
    "last_height = driver.execute_script(\"return document.body.scrollHeight\")         \n",
    "\n",
    "while True:\n",
    "    # Scroll down to bottom (창 높이까지 스크롤)                                                    \n",
    "    driver.execute_script(\"window.scrollTo(0, document.body.scrollHeight);\")\n",
    "\n",
    "    # Wait to load page (스크롤 후 창 로딩될 때까지 기다림)\n",
    "    time.sleep(SCROLL_PAUSE_TIME)                                                \n",
    "    driver.execute_script(\"window.scrollTo(0, document.body.scrollHeight-50);\")  \n",
    "    time.sleep(SCROLL_PAUSE_TIME)\n",
    "\n",
    "    # Calculate new scroll height and compare with last scroll height (스크롤이 된 후에 창 높이를 새로운 높이로 저장)\n",
    "    new_height = driver.execute_script(\"return document.body.scrollHeight\")\n",
    "\n",
    "    if new_height == last_height: #새로운 높이가 이전 높이와 변하지 않았으면 스크롤 종료\n",
    "        break\n",
    "\n",
    "    last_height = new_height"
   ]
  },
  {
   "cell_type": "code",
   "execution_count": 65,
   "metadata": {},
   "outputs": [],
   "source": [
    "flower=[]\n",
    "\n",
    "for i in range(1,437): #총 436개의 꽃\n",
    "    flower_table={}\n",
    "\n",
    "    #꽃 이름\n",
    "    flower_table['꽃'] = driver.find_element(By.XPATH, '//*[@id=\"layoutContainer\"]/section/div/div/section/article/div[2]/article/ul/div[{}]/li/div[1]/h3'.format(i)).text\n",
    "    #꽃 이미지\n",
    "    flower_table['이미지'] = driver.find_element(By.XPATH, '//*[@id=\"layoutContainer\"]/section/div/div/section/article/div[2]/article/ul/div[{}]/li/div[1]/img'.format(i)).get_attribute('src')\n",
    "    #꽃말\n",
    "    flower_table['꽃말'] = driver.find_element(By.XPATH, '//*[@id=\"layoutContainer\"]/section/div/div/section/article/div[2]/article/ul/div[{}]/li/div[2]/p'.format(i)).text\n",
    "    #계절\n",
    "    flower_table['계절'] = driver.find_element(By.XPATH, '//*[@id=\"layoutContainer\"]/section/div/div/section/article/div[2]/article/ul/div[{}]/li/div[2]/div'.format(i)).text\n",
    "\n",
    "\n",
    "    flower.append(flower_table)"
   ]
  },
  {
   "cell_type": "code",
   "execution_count": 68,
   "metadata": {},
   "outputs": [
    {
     "data": {
      "text/html": [
       "<div>\n",
       "<style scoped>\n",
       "    .dataframe tbody tr th:only-of-type {\n",
       "        vertical-align: middle;\n",
       "    }\n",
       "\n",
       "    .dataframe tbody tr th {\n",
       "        vertical-align: top;\n",
       "    }\n",
       "\n",
       "    .dataframe thead th {\n",
       "        text-align: right;\n",
       "    }\n",
       "</style>\n",
       "<table border=\"1\" class=\"dataframe\">\n",
       "  <thead>\n",
       "    <tr style=\"text-align: right;\">\n",
       "      <th></th>\n",
       "      <th>꽃</th>\n",
       "      <th>이미지</th>\n",
       "      <th>꽃말</th>\n",
       "      <th>계절</th>\n",
       "    </tr>\n",
       "  </thead>\n",
       "  <tbody>\n",
       "    <tr>\n",
       "      <th>0</th>\n",
       "      <td>작약</td>\n",
       "      <td>https://file.honestflower.kr/media/images/ingr...</td>\n",
       "      <td>수줍음</td>\n",
       "      <td>봄</td>\n",
       "    </tr>\n",
       "    <tr>\n",
       "      <th>1</th>\n",
       "      <td>스프레이 델피늄</td>\n",
       "      <td>https://file.honestflower.kr/media/images/ingr...</td>\n",
       "      <td>당신을 행복하게 해줄게요</td>\n",
       "      <td>봄\\n여름\\n가을\\n겨울</td>\n",
       "    </tr>\n",
       "    <tr>\n",
       "      <th>2</th>\n",
       "      <td>알스트로메리아</td>\n",
       "      <td>https://file.honestflower.kr/media/images/ingr...</td>\n",
       "      <td>새로운 만남, 배려</td>\n",
       "      <td>봄\\n여름\\n가을\\n겨울</td>\n",
       "    </tr>\n",
       "    <tr>\n",
       "      <th>3</th>\n",
       "      <td>염색 카네이션</td>\n",
       "      <td>https://file.honestflower.kr/media/images/ingr...</td>\n",
       "      <td>존경</td>\n",
       "      <td>봄\\n여름\\n가을\\n겨울</td>\n",
       "    </tr>\n",
       "    <tr>\n",
       "      <th>4</th>\n",
       "      <td>피콜리니 거베라</td>\n",
       "      <td>https://file.honestflower.kr/media/images/ingr...</td>\n",
       "      <td>수수께끼</td>\n",
       "      <td>봄\\n여름\\n가을\\n겨울</td>\n",
       "    </tr>\n",
       "  </tbody>\n",
       "</table>\n",
       "</div>"
      ],
      "text/plain": [
       "          꽃                                                이미지             꽃말  \\\n",
       "0        작약  https://file.honestflower.kr/media/images/ingr...            수줍음   \n",
       "1  스프레이 델피늄  https://file.honestflower.kr/media/images/ingr...  당신을 행복하게 해줄게요   \n",
       "2   알스트로메리아  https://file.honestflower.kr/media/images/ingr...     새로운 만남, 배려   \n",
       "3   염색 카네이션  https://file.honestflower.kr/media/images/ingr...             존경   \n",
       "4  피콜리니 거베라  https://file.honestflower.kr/media/images/ingr...           수수께끼   \n",
       "\n",
       "              계절  \n",
       "0              봄  \n",
       "1  봄\\n여름\\n가을\\n겨울  \n",
       "2  봄\\n여름\\n가을\\n겨울  \n",
       "3  봄\\n여름\\n가을\\n겨울  \n",
       "4  봄\\n여름\\n가을\\n겨울  "
      ]
     },
     "execution_count": 68,
     "metadata": {},
     "output_type": "execute_result"
    }
   ],
   "source": [
    "flower_df=pd.DataFrame.from_dict(flower)\n",
    "flower_df.head(5)"
   ]
  },
  {
   "cell_type": "code",
   "execution_count": 69,
   "metadata": {},
   "outputs": [],
   "source": [
    "flower_df.to_csv(\"C:/Users/pc/Desktop/민지/동아리/프로젝트(13기)/사이트 꽃.csv\")"
   ]
  },
  {
   "cell_type": "markdown",
   "metadata": {},
   "source": [
    "카드 뒤에 적힌 설명 가져오는 걸 계속 실패함 ㅠㅠ"
   ]
  },
  {
   "cell_type": "code",
   "execution_count": null,
   "metadata": {},
   "outputs": [],
   "source": [
    "#카드 클릭\n",
    "driver.find_element(By.XPATH, f'//*[@id=\"layoutContainer\"]/section/div[2]/div/section/article/div[2]/article/ul/div[{i}]/li/div[1]').click()\n",
    "time.sleep(1)\n",
    "\n",
    "#설명\n",
    "#flower_table['설명']=driver.find_element(By.CSS_SELECTOR, 'div.FlowerCardLayout_cardBox__LTtf0 > div:nth-child(2) > article > div.CardBack_info__e9jQU > p').text\n",
    "    flower_table['설명']=driver.find_element(By.XPATH, '//*[@id=\"layoutContainer\"]/section/div[2]/div/section/article/div[2]/div[1]/div/div[1]/div[2]/article/div[1]/p').text\n",
    "    \n",
    "\n",
    "# JavaScript를 사용하여 빈 화면 클릭, 페이지의 좌표 (100, 100)를 클릭\n",
    "click_script = \"document.elementFromPoint(100, 180).click();\"\n",
    "driver.execute_script(click_script)"
   ]
  }
 ],
 "metadata": {
  "kernelspec": {
   "display_name": "base",
   "language": "python",
   "name": "python3"
  },
  "language_info": {
   "codemirror_mode": {
    "name": "ipython",
    "version": 3
   },
   "file_extension": ".py",
   "mimetype": "text/x-python",
   "name": "python",
   "nbconvert_exporter": "python",
   "pygments_lexer": "ipython3",
   "version": "3.11.4"
  }
 },
 "nbformat": 4,
 "nbformat_minor": 2
}
