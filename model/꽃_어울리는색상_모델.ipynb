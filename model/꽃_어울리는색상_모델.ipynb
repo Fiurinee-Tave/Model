{
 "cells": [
  {
   "cell_type": "code",
   "execution_count": 1,
   "metadata": {},
   "outputs": [],
   "source": [
    "import pandas as pd\n",
    "import numpy as np\n",
    "import re"
   ]
  },
  {
   "cell_type": "code",
   "execution_count": 3,
   "metadata": {},
   "outputs": [
    {
     "data": {
      "text/html": [
       "<div>\n",
       "<style scoped>\n",
       "    .dataframe tbody tr th:only-of-type {\n",
       "        vertical-align: middle;\n",
       "    }\n",
       "\n",
       "    .dataframe tbody tr th {\n",
       "        vertical-align: top;\n",
       "    }\n",
       "\n",
       "    .dataframe thead th {\n",
       "        text-align: right;\n",
       "    }\n",
       "</style>\n",
       "<table border=\"1\" class=\"dataframe\">\n",
       "  <thead>\n",
       "    <tr style=\"text-align: right;\">\n",
       "      <th></th>\n",
       "      <th>Unnamed: 0</th>\n",
       "      <th>꽃</th>\n",
       "      <th>월</th>\n",
       "      <th>계절</th>\n",
       "      <th>꽃말</th>\n",
       "      <th>색상</th>\n",
       "      <th>꽃1</th>\n",
       "      <th>선택한 색상1</th>\n",
       "      <th>꽃2</th>\n",
       "      <th>선택한 색상2</th>\n",
       "    </tr>\n",
       "  </thead>\n",
       "  <tbody>\n",
       "    <tr>\n",
       "      <th>0</th>\n",
       "      <td>0</td>\n",
       "      <td>각시붓꽃</td>\n",
       "      <td>3</td>\n",
       "      <td>봄</td>\n",
       "      <td>부끄러움, 세련됨</td>\n",
       "      <td>보라</td>\n",
       "      <td>문스톤 장미</td>\n",
       "      <td>[247, 243, 204]</td>\n",
       "      <td>스카비오사</td>\n",
       "      <td>[218, 196, 217]</td>\n",
       "    </tr>\n",
       "    <tr>\n",
       "      <th>1</th>\n",
       "      <td>1</td>\n",
       "      <td>감국</td>\n",
       "      <td>10</td>\n",
       "      <td>가을</td>\n",
       "      <td>그윽한 향기</td>\n",
       "      <td>노랑</td>\n",
       "      <td>산자고</td>\n",
       "      <td>[248, 248, 240]</td>\n",
       "      <td>로사넬라 장미</td>\n",
       "      <td>[240, 222, 187]</td>\n",
       "    </tr>\n",
       "    <tr>\n",
       "      <th>2</th>\n",
       "      <td>2</td>\n",
       "      <td>개나리</td>\n",
       "      <td>3</td>\n",
       "      <td>봄</td>\n",
       "      <td>희망,깊은 정, 달성</td>\n",
       "      <td>노랑</td>\n",
       "      <td>블랙뷰티 장미</td>\n",
       "      <td>[68, 5, 20]</td>\n",
       "      <td>미가목</td>\n",
       "      <td>[255, 255, 255]</td>\n",
       "    </tr>\n",
       "    <tr>\n",
       "      <th>3</th>\n",
       "      <td>3</td>\n",
       "      <td>개나리</td>\n",
       "      <td>4</td>\n",
       "      <td>봄</td>\n",
       "      <td>희망</td>\n",
       "      <td>노랑</td>\n",
       "      <td>블랙뷰티 장미</td>\n",
       "      <td>[68, 5, 20]</td>\n",
       "      <td>만병초</td>\n",
       "      <td>[255, 255, 255]</td>\n",
       "    </tr>\n",
       "    <tr>\n",
       "      <th>4</th>\n",
       "      <td>4</td>\n",
       "      <td>갯개미취</td>\n",
       "      <td>9</td>\n",
       "      <td>가을</td>\n",
       "      <td>추억</td>\n",
       "      <td>보라</td>\n",
       "      <td>히야신스</td>\n",
       "      <td>[43, 22, 122]</td>\n",
       "      <td>꽃아그배나무꽃</td>\n",
       "      <td>[255, 255, 255]</td>\n",
       "    </tr>\n",
       "  </tbody>\n",
       "</table>\n",
       "</div>"
      ],
      "text/plain": [
       "   Unnamed: 0     꽃   월  계절           꽃말  색상       꽃1          선택한 색상1  \\\n",
       "0           0  각시붓꽃   3   봄    부끄러움, 세련됨  보라   문스톤 장미  [247, 243, 204]   \n",
       "1           1    감국  10  가을       그윽한 향기  노랑      산자고  [248, 248, 240]   \n",
       "2           2   개나리   3   봄  희망,깊은 정, 달성  노랑  블랙뷰티 장미      [68, 5, 20]   \n",
       "3           3   개나리   4   봄           희망  노랑  블랙뷰티 장미      [68, 5, 20]   \n",
       "4           4  갯개미취   9  가을           추억  보라     히야신스    [43, 22, 122]   \n",
       "\n",
       "        꽃2          선택한 색상2  \n",
       "0    스카비오사  [218, 196, 217]  \n",
       "1  로사넬라 장미  [240, 222, 187]  \n",
       "2      미가목  [255, 255, 255]  \n",
       "3      만병초  [255, 255, 255]  \n",
       "4  꽃아그배나무꽃  [255, 255, 255]  "
      ]
     },
     "execution_count": 3,
     "metadata": {},
     "output_type": "execute_result"
    }
   ],
   "source": [
    "df = pd.read_csv(\"C:/Users/pc/Model/Model-2/dataset/어울리는색상_데이터.csv\")\n",
    "df.head(5)"
   ]
  },
  {
   "cell_type": "code",
   "execution_count": 7,
   "metadata": {},
   "outputs": [],
   "source": [
    "flower_name = \"개나리\" #사용자가 선택한 꽃이름\n",
    "flower_mean = \"희망\" #사용자가 선택한 꽃말\n",
    "\n",
    "result_flower=df[(df['꽃']==flower_name) & (df['꽃말']==flower_mean)]\n",
    "\n",
    "combined_result = pd.concat([\n",
    "    result_flower[['꽃1', '선택한 색상1']].rename(columns={'꽃1': '꽃', '선택한 색상1': '선택한 색상'}),\n",
    "    result_flower[['꽃2', '선택한 색상2']].rename(columns={'꽃2': '꽃', '선택한 색상2': '선택한 색상'})\n",
    "], axis=0).reset_index(drop=True)"
   ]
  },
  {
   "cell_type": "code",
   "execution_count": 9,
   "metadata": {},
   "outputs": [
    {
     "data": {
      "text/plain": [
       "[{'꽃': '블랙뷰티 장미', '선택한 색상': '[68, 5, 20]'},\n",
       " {'꽃': '만병초', '선택한 색상': '[255, 255, 255]'}]"
      ]
     },
     "execution_count": 9,
     "metadata": {},
     "output_type": "execute_result"
    }
   ],
   "source": [
    "combined_result.to_dict(orient='records')"
   ]
  }
 ],
 "metadata": {
  "kernelspec": {
   "display_name": "base",
   "language": "python",
   "name": "python3"
  },
  "language_info": {
   "codemirror_mode": {
    "name": "ipython",
    "version": 3
   },
   "file_extension": ".py",
   "mimetype": "text/x-python",
   "name": "python",
   "nbconvert_exporter": "python",
   "pygments_lexer": "ipython3",
   "version": "3.11.4"
  }
 },
 "nbformat": 4,
 "nbformat_minor": 2
}
